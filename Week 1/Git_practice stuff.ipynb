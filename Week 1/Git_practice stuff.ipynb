{
 "cells": [
  {
   "cell_type": "markdown",
   "id": "faf769d4",
   "metadata": {},
   "source": [
    "# This is just for more git practice"
   ]
  },
  {
   "cell_type": "code",
   "execution_count": 1,
   "id": "c1be559f",
   "metadata": {},
   "outputs": [
    {
     "data": {
      "text/plain": [
       "[0, 1, 4, 9, 16, 25, 36, 49, 64, 81]"
      ]
     },
     "execution_count": 1,
     "metadata": {},
     "output_type": "execute_result"
    }
   ],
   "source": [
    "def square(n):\n",
    "    return [i**2 for i in range(n)]\n",
    "square(10)"
   ]
  },
  {
   "cell_type": "markdown",
   "id": "41d57d0f",
   "metadata": {},
   "source": [
    "Made a new branch, just updating this file"
   ]
  },
  {
   "cell_type": "code",
   "execution_count": 2,
   "id": "4c2d1571",
   "metadata": {},
   "outputs": [
    {
     "data": {
      "text/plain": [
       "[0, 1, 8, 27]"
      ]
     },
     "execution_count": 2,
     "metadata": {},
     "output_type": "execute_result"
    }
   ],
   "source": [
    "def cubed(n):\n",
    "    return [i**3 for i in range(n)]\n",
    "\n",
    "cubed(4)"
   ]
  },
  {
   "cell_type": "code",
   "execution_count": null,
   "id": "e2ada0f3",
   "metadata": {},
   "outputs": [],
   "source": []
  }
 ],
 "metadata": {
  "kernelspec": {
   "display_name": "Python 3 (ipykernel)",
   "language": "python",
   "name": "python3"
  },
  "language_info": {
   "codemirror_mode": {
    "name": "ipython",
    "version": 3
   },
   "file_extension": ".py",
   "mimetype": "text/x-python",
   "name": "python",
   "nbconvert_exporter": "python",
   "pygments_lexer": "ipython3",
   "version": "3.10.0"
  }
 },
 "nbformat": 4,
 "nbformat_minor": 5
}
