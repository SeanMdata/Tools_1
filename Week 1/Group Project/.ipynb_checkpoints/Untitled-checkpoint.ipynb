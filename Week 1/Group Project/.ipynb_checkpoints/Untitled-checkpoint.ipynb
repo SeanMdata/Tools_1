{
 "cells": [
  {
   "cell_type": "markdown",
   "id": "4450ba8f",
   "metadata": {},
   "source": [
    "# Tools 1 Project, twitter api exploration"
   ]
  },
  {
   "cell_type": "code",
   "execution_count": 55,
   "id": "dc41b31b",
   "metadata": {},
   "outputs": [],
   "source": [
    "import requests\n",
    "import os\n",
    "import json\n",
    "import pandas as pd\n",
    "import csv\n",
    "import datetime\n",
    "import dateutil.parser\n",
    "import unicodedata\n",
    "import time\n",
    "\n"
   ]
  },
  {
   "cell_type": "code",
   "execution_count": 56,
   "id": "fdeff498",
   "metadata": {},
   "outputs": [],
   "source": [
    "bearer_token = \"AAAAAAAAAAAAAAAAAAAAAOzzoAEAAAAAeqNm5yt6Mp0AdajXs8UFXxOcypc%3D6f260pHyEDTuCQbBqMS8yPQlj8NwCbT2cCrHnQ7MW2ype0wrWF\"\n",
    "access_token = \"802365183695982592-Lx8rm59dxt5pe0VX1sGDbjZqmgrZcyI\"\n",
    "access_token_s = \"Kx15jJSkyRMmPKVvIPaGjkzPkUTFWY8sQ5dGDKTxCpfSV\""
   ]
  },
  {
   "cell_type": "code",
   "execution_count": 57,
   "id": "c39b8828",
   "metadata": {},
   "outputs": [],
   "source": [
    "curl --request GET 'https://api.twitter.com/2/tweets/search/recent?query=from:twitterdev' --header 'Authorization: Bearer {bearer_token}'"
   ]
  }
 ],
 "metadata": {
  "kernelspec": {
   "display_name": "Python 3 (ipykernel)",
   "language": "python",
   "name": "python3"
  },
  "language_info": {
   "codemirror_mode": {
    "name": "ipython",
    "version": 3
   },
   "file_extension": ".py",
   "mimetype": "text/x-python",
   "name": "python",
   "nbconvert_exporter": "python",
   "pygments_lexer": "ipython3",
   "version": "3.10.0"
  }
 },
 "nbformat": 4,
 "nbformat_minor": 5
}
