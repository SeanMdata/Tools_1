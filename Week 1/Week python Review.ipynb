{
 "cells": [
  {
   "cell_type": "markdown",
   "id": "66c3d029",
   "metadata": {},
   "source": [
    "# Quick Review of Python and Standard Library"
   ]
  },
  {
   "cell_type": "code",
   "execution_count": 5,
   "id": "d6e61b6e",
   "metadata": {},
   "outputs": [
    {
     "name": "stdout",
     "output_type": "stream",
     "text": [
      "[1, 2, 3, 4, 5, 6, 7, 8, 9, 10]\n",
      "[1, 8, 27, 64, 125, 216, 343, 512, 729, 1000]\n"
     ]
    }
   ],
   "source": [
    "#list manipulation\n",
    "\n",
    "num_list = [i for i in range(1,11)]\n",
    "print(num_list)\n",
    "cubed_nums = [i**3 for i in num_list]\n",
    "print(cubed_nums)"
   ]
  },
  {
   "cell_type": "code",
   "execution_count": 6,
   "id": "9ab8bf0f",
   "metadata": {},
   "outputs": [
    {
     "name": "stdout",
     "output_type": "stream",
     "text": [
      "['Europe', 'Africa', 'America', 'Antartica', 'Asia', 'Australia']\n"
     ]
    }
   ],
   "source": [
    "#Sorting lists\n",
    "continents = ['Europe', 'Africa', 'America', 'Antartica', 'Asia', 'Australia']\n",
    "print(continents)"
   ]
  },
  {
   "cell_type": "code",
   "execution_count": 12,
   "id": "c3be7958",
   "metadata": {},
   "outputs": [
    {
     "name": "stdout",
     "output_type": "stream",
     "text": [
      "['Africa', 'America', 'Antartica', 'Asia', 'Australia', 'Europe']\n"
     ]
    },
    {
     "data": {
      "text/plain": [
       "['Africa', 'America', 'Antartica', 'Asia', 'Australia', 'Europe']"
      ]
     },
     "execution_count": 12,
     "metadata": {},
     "output_type": "execute_result"
    }
   ],
   "source": [
    "#alphabetically sort vs sorted \n",
    "continents.sort()\n",
    "print(continents)\n",
    "sorted(continents)"
   ]
  },
  {
   "cell_type": "code",
   "execution_count": 13,
   "id": "c382303c",
   "metadata": {},
   "outputs": [
    {
     "data": {
      "text/plain": [
       "['Antartica', 'Australia', 'America', 'Africa', 'Europe', 'Asia']"
      ]
     },
     "execution_count": 13,
     "metadata": {},
     "output_type": "execute_result"
    }
   ],
   "source": [
    "sorted(continents, key = len, reverse = True)"
   ]
  },
  {
   "cell_type": "code",
   "execution_count": 14,
   "id": "51f0a75a",
   "metadata": {},
   "outputs": [
    {
     "name": "stdout",
     "output_type": "stream",
     "text": [
      "{'threshold': 20, 'neighborhoodSize': 4, 'tolerance': 0.002}\n"
     ]
    }
   ],
   "source": [
    "# Dictionaries\n",
    "config = {}\n",
    "config['threshold'] =20\n",
    "config['neighborhoodSize'] = 4\n",
    "config['tolerance']= 0.002\n",
    "print(config)"
   ]
  },
  {
   "cell_type": "code",
   "execution_count": 17,
   "id": "83cda901",
   "metadata": {},
   "outputs": [
    {
     "name": "stdout",
     "output_type": "stream",
     "text": [
      "threshold 20\n",
      "neighborhoodSize 4\n",
      "tolerance 0.002\n",
      "\n",
      "\n",
      "threshold\n",
      "neighborhoodSize\n",
      "tolerance\n",
      "\n",
      "\n",
      "20\n",
      "4\n",
      "0.002\n"
     ]
    }
   ],
   "source": [
    "#itterating over dictionaries:\n",
    "for name_key, value in config.items():\n",
    "    print(name_key, value)\n",
    "\n",
    "print('\\n')\n",
    "for key in config.keys():\n",
    "    print(key)\n",
    "print('\\n')\n",
    "for value in config.values():\n",
    "    print(value)"
   ]
  },
  {
   "cell_type": "code",
   "execution_count": 21,
   "id": "f0278107",
   "metadata": {},
   "outputs": [
    {
     "name": "stdout",
     "output_type": "stream",
     "text": [
      "True\n",
      "False\n"
     ]
    }
   ],
   "source": [
    "#Finding keys in a dict\n",
    "\n",
    "print('threshold' in config)\n",
    "\n",
    "print('nothere' in config)"
   ]
  },
  {
   "cell_type": "code",
   "execution_count": 23,
   "id": "f3cab21b",
   "metadata": {},
   "outputs": [
    {
     "name": "stdout",
     "output_type": "stream",
     "text": [
      "That key doesnt exist\n"
     ]
    }
   ],
   "source": [
    "#To avoid key errors we can use:\n",
    "print(config.get('madeup', 'That key doesnt exist'))"
   ]
  },
  {
   "cell_type": "code",
   "execution_count": 25,
   "id": "35d6b09e",
   "metadata": {},
   "outputs": [
    {
     "name": "stdout",
     "output_type": "stream",
     "text": [
      "1\n"
     ]
    }
   ],
   "source": [
    "#setting the default value for keys\n",
    "config.setdefault('numseans', 1)\n",
    "print(config['numseans'])"
   ]
  },
  {
   "cell_type": "code",
   "execution_count": 30,
   "id": "db139f16",
   "metadata": {},
   "outputs": [
    {
     "name": "stdout",
     "output_type": "stream",
     "text": [
      "{1: 1, 7: 3, 4: 1, 9: 1}\n",
      "defaultdict(<class 'int'>, {1: 1, 7: 3, 4: 1, 9: 1})\n"
     ]
    }
   ],
   "source": [
    "#using Defaultdict\n",
    "#lets say we want to count the frequency a number occurs in a list and store it in a dict\n",
    "\n",
    "#One way pretty lame\n",
    "list_of_nums = [1,7,7,7,4,9]\n",
    "def countFreq(list_of_nums):\n",
    "    frequencies = {}\n",
    "    for item in list_of_nums:\n",
    "        freq = frequencies.setdefault(item, 0)\n",
    "        frequencies[item] = freq+1\n",
    "    return frequencies\n",
    "\n",
    "print(countFreq(list_of_nums))\n",
    "\n",
    "# The Better way\n",
    "from collections import defaultdict\n",
    "\n",
    "def count_frq(num_list):\n",
    "    frequencies = defaultdict(int)\n",
    "    for i in num_list:\n",
    "        frequencies[i] +=1\n",
    "    return frequencies\n",
    "\n",
    "print(count_frq(list_of_nums))"
   ]
  },
  {
   "cell_type": "code",
   "execution_count": 32,
   "id": "f4c193f7",
   "metadata": {},
   "outputs": [
    {
     "name": "stdout",
     "output_type": "stream",
     "text": [
      "{10, 20, 70, 30}\n"
     ]
    }
   ],
   "source": [
    "#Sets, maintains a list of unique items\n",
    "\n",
    "dup_list = [20,10,70,30,10,20]\n",
    "age_set = set(dup_list)\n",
    "print(age_set)"
   ]
  },
  {
   "cell_type": "code",
   "execution_count": 38,
   "id": "9ab6184f",
   "metadata": {},
   "outputs": [
    {
     "data": {
      "text/plain": [
       "{20}"
      ]
     },
     "execution_count": 38,
     "metadata": {},
     "output_type": "execute_result"
    }
   ],
   "source": [
    "#Set intersection\n",
    "age_set1 = set([20])\n",
    "age_set2 = set([20,10,70,30,10,20])\n",
    "\n",
    "age_set2.intersection(age_set1)"
   ]
  },
  {
   "cell_type": "code",
   "execution_count": 40,
   "id": "9f43b2f8",
   "metadata": {},
   "outputs": [
    {
     "name": "stdout",
     "output_type": "stream",
     "text": [
      "1\n",
      "('9 Oct', 'Houston', 75)\n",
      "9 Oct\n",
      "Houston\n",
      "75\n"
     ]
    }
   ],
   "source": [
    "# Writing functions with variable number of arguments:\n",
    "\n",
    "def logInfo(level, *args):\n",
    "    print(level)\n",
    "    print(args)\n",
    "    for arg in args:\n",
    "        print(arg)\n",
    "        \n",
    "logInfo(1,'9 Oct', 'Houston', 75)\n"
   ]
  },
  {
   "cell_type": "code",
   "execution_count": 42,
   "id": "382ba807",
   "metadata": {},
   "outputs": [
    {
     "data": {
      "text/plain": [
       "[4, 5, 6, 7, 8, 9]"
      ]
     },
     "execution_count": 42,
     "metadata": {},
     "output_type": "execute_result"
    }
   ],
   "source": [
    "# can use a * to unpack arguments\n",
    "param = [4,10]\n",
    "list(range(*param))"
   ]
  },
  {
   "cell_type": "code",
   "execution_count": 45,
   "id": "9f2cc254",
   "metadata": {},
   "outputs": [
    {
     "name": "stdout",
     "output_type": "stream",
     "text": [
      "1\n",
      "{'date': '7 Jan', 'city': 'Denver', 'Temp': 67}\n",
      "key = date, value = 7 Jan\n",
      "key = city, value = Denver\n",
      "key = Temp, value = 67\n"
     ]
    }
   ],
   "source": [
    "# Variable KeyWord arguments\n",
    "\n",
    "def loginfokeyword(level, **kwargs):\n",
    "    print(level)\n",
    "    print(kwargs)\n",
    "    for key,val in kwargs.items():\n",
    "        print(f'key = {key}, value = {val}')\n",
    "              \n",
    "loginfokeyword(1, date=\"7 Jan\", city = \"Denver\", Temp = 67)"
   ]
  },
  {
   "cell_type": "code",
   "execution_count": null,
   "id": "36a8fb00",
   "metadata": {},
   "outputs": [],
   "source": []
  }
 ],
 "metadata": {
  "kernelspec": {
   "display_name": "Python 3 (ipykernel)",
   "language": "python",
   "name": "python3"
  },
  "language_info": {
   "codemirror_mode": {
    "name": "ipython",
    "version": 3
   },
   "file_extension": ".py",
   "mimetype": "text/x-python",
   "name": "python",
   "nbconvert_exporter": "python",
   "pygments_lexer": "ipython3",
   "version": "3.10.0"
  }
 },
 "nbformat": 4,
 "nbformat_minor": 5
}
