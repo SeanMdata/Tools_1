{
 "cells": [
  {
   "cell_type": "markdown",
   "id": "bc8cb7de",
   "metadata": {},
   "source": [
    "# Week 2 Async stuff\n",
    "### We can run bash scripts from jupyter notebooks"
   ]
  },
  {
   "cell_type": "code",
   "execution_count": 58,
   "id": "8aeb38f5",
   "metadata": {},
   "outputs": [
    {
     "name": "stdout",
     "output_type": "stream",
     "text": [
      "Lecture 2, AWK SED.ipynb dir_content.txt          ml-latest-small.zip\r\n",
      "Lecture 2, Regex.ipynb   hw2.ipynb                payment_gateway.logxx\r\n",
      "Week 2 Async Notes.ipynb \u001b[34mml-latest-small\u001b[m\u001b[m          pg11.txt\r\n"
     ]
    }
   ],
   "source": [
    "! ls"
   ]
  },
  {
   "cell_type": "code",
   "execution_count": 59,
   "id": "9959394b",
   "metadata": {},
   "outputs": [],
   "source": [
    "! ls > dir_content.txt"
   ]
  },
  {
   "cell_type": "code",
   "execution_count": 60,
   "id": "ab889bde",
   "metadata": {},
   "outputs": [
    {
     "name": "stdout",
     "output_type": "stream",
     "text": [
      "Lecture 2, AWK SED.ipynb\r\n",
      "Lecture 2, Regex.ipynb\r\n",
      "Week 2 Async Notes.ipynb\r\n",
      "dir_content.txt\r\n",
      "hw2.ipynb\r\n",
      "\u001b[34mml-latest-small\u001b[m\u001b[m\r\n",
      "ml-latest-small.zip\r\n",
      "payment_gateway.logxx\r\n",
      "pg11.txt\r\n"
     ]
    }
   ],
   "source": [
    "! cat dir_content.txt"
   ]
  },
  {
   "cell_type": "markdown",
   "id": "9c4e5bc6",
   "metadata": {},
   "source": [
    "### Working with Regex"
   ]
  },
  {
   "cell_type": "code",
   "execution_count": 61,
   "id": "41179422",
   "metadata": {},
   "outputs": [
    {
     "name": "stdout",
     "output_type": "stream",
     "text": [
      "120 west street \r\n"
     ]
    }
   ],
   "source": [
    "!echo \"120 west street \\n york steet 211\" | grep \"^[0-9]\""
   ]
  },
  {
   "cell_type": "code",
   "execution_count": 62,
   "id": "8d2757f5",
   "metadata": {},
   "outputs": [
    {
     "name": "stdout",
     "output_type": "stream",
     "text": [
      " 1- Lot of hacking skill in data science\r\n"
     ]
    }
   ],
   "source": [
    "!echo \"data science skills \\n 1- Lot of hacking skill in data science\" | grep \"science$\""
   ]
  },
  {
   "cell_type": "code",
   "execution_count": 63,
   "id": "7e0edc92",
   "metadata": {},
   "outputs": [
    {
     "name": "stdout",
     "output_type": "stream",
     "text": [
      "We are looking for best accuray\r\n"
     ]
    }
   ],
   "source": [
    "!echo \"We are looking for best accuray\\nState of the art accuracy is 80%\" | grep \".st\""
   ]
  },
  {
   "cell_type": "code",
   "execution_count": 64,
   "id": "8a5ad518",
   "metadata": {},
   "outputs": [
    {
     "name": "stdout",
     "output_type": "stream",
     "text": [
      "Its was a long experiment.\r\n",
      "Numerical experimnt can be long.\r\n"
     ]
    }
   ],
   "source": [
    "!echo \"Its was a long experiment.\\nNumerical experimnt can be long.\\nIt took 5 days to complete\" | grep \"experime*nt\""
   ]
  },
  {
   "cell_type": "code",
   "execution_count": 65,
   "id": "eb77c5a5",
   "metadata": {},
   "outputs": [
    {
     "name": "stdout",
     "output_type": "stream",
     "text": [
      "hour rebilled 23.\r\n",
      "hour overbilled 98\r\n"
     ]
    }
   ],
   "source": [
    "!echo \"hour billed 88.\\nhour rebilled 23.\\nhour overbilled 98\"|grep \"[^[:space:]]billed\""
   ]
  },
  {
   "cell_type": "markdown",
   "id": "f9dd3aeb",
   "metadata": {},
   "source": [
    "### Extedned Regex"
   ]
  },
  {
   "cell_type": "code",
   "execution_count": 66,
   "id": "25e132d4",
   "metadata": {},
   "outputs": [
    {
     "name": "stdout",
     "output_type": "stream",
     "text": [
      "color\r\n"
     ]
    }
   ],
   "source": [
    "!echo \"color\" |grep -E \"colo?r\""
   ]
  },
  {
   "cell_type": "code",
   "execution_count": 67,
   "id": "4031d2cc",
   "metadata": {},
   "outputs": [
    {
     "name": "stdout",
     "output_type": "stream",
     "text": [
      "colr\r\n"
     ]
    }
   ],
   "source": [
    "!echo \"colr\" | grep -E \"colo?r\""
   ]
  },
  {
   "cell_type": "code",
   "execution_count": 68,
   "id": "5d7e9083",
   "metadata": {},
   "outputs": [],
   "source": [
    "!echo \"coloor\" |grep -E \"colo?r\""
   ]
  },
  {
   "cell_type": "markdown",
   "id": "57c13f80",
   "metadata": {},
   "source": [
    "#### grouping expressions"
   ]
  },
  {
   "cell_type": "code",
   "execution_count": 69,
   "id": "3387208c",
   "metadata": {},
   "outputs": [
    {
     "name": "stdout",
     "output_type": "stream",
     "text": [
      "MeetGreetGreet\r\n"
     ]
    }
   ],
   "source": [
    "! echo \"MeetGreetGreet\" |grep -E \"Meet(Greet)+\""
   ]
  },
  {
   "cell_type": "code",
   "execution_count": 70,
   "id": "cdcd325e",
   "metadata": {},
   "outputs": [],
   "source": [
    "!echo \"Meet\" |grep -E \"Meet(Greet)+\" "
   ]
  },
  {
   "cell_type": "code",
   "execution_count": 75,
   "id": "8586305d",
   "metadata": {},
   "outputs": [
    {
     "name": "stdout",
     "output_type": "stream",
     "text": [
      "  % Total    % Received % Xferd  Average Speed   Time    Time     Time  Current\n",
      "                                 Dload  Upload   Total   Spent    Left  Speed\n",
      "100  170k  100  170k    0     0   439k      0 --:--:-- --:--:-- --:--:--  443k\n",
      "1705 the\n",
      " 872 and\n",
      " 804 to\n",
      " 677 a\n",
      " 615 of\n",
      "sort: Broken pipe\n"
     ]
    }
   ],
   "source": [
    "# This is for finding the frequency of words from the gutenberg site\n",
    "\n",
    "! curl \"https://www.gutenberg.org/cache/epub/11/pg11.txt\" | grep -oE \"\\w+\" |sort|uniq -c|sort -nr| head -n 5\n",
    "    "
   ]
  },
  {
   "cell_type": "code",
   "execution_count": null,
   "id": "e5e9a516",
   "metadata": {},
   "outputs": [],
   "source": []
  }
 ],
 "metadata": {
  "kernelspec": {
   "display_name": "Python 3 (ipykernel)",
   "language": "python",
   "name": "python3"
  },
  "language_info": {
   "codemirror_mode": {
    "name": "ipython",
    "version": 3
   },
   "file_extension": ".py",
   "mimetype": "text/x-python",
   "name": "python",
   "nbconvert_exporter": "python",
   "pygments_lexer": "ipython3",
   "version": "3.10.0"
  }
 },
 "nbformat": 4,
 "nbformat_minor": 5
}
