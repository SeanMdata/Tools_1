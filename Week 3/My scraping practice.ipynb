{
 "cells": [
  {
   "cell_type": "markdown",
   "id": "01939231",
   "metadata": {},
   "source": [
    "# My scraping practice"
   ]
  },
  {
   "cell_type": "code",
   "execution_count": 88,
   "id": "96e39c08",
   "metadata": {},
   "outputs": [],
   "source": [
    "from bs4 import BeautifulSoup as bsoup\n",
    "import requests\n",
    "import urllib.robotparser\n",
    "import re"
   ]
  },
  {
   "cell_type": "markdown",
   "id": "153e5713",
   "metadata": {},
   "source": [
    "### checking permissions w/ robot parser for microcenter"
   ]
  },
  {
   "cell_type": "code",
   "execution_count": 68,
   "id": "449a493a",
   "metadata": {},
   "outputs": [
    {
     "data": {
      "text/plain": [
       "False"
      ]
     },
     "execution_count": 68,
     "metadata": {},
     "output_type": "execute_result"
    }
   ],
   "source": [
    "rp  = urllib.robotparser.RobotFileParser()\n",
    "rp.set_url(\"https://www.microcenter.com/robot.txt\")\n",
    "rp.read()\n",
    "rp.can_fetch(\"*\", \"https://www.microcenter.com/search/search_results.aspx?N=4294967292+4294807523&rd=1&vkw=Gaming+PCs\")"
   ]
  },
  {
   "cell_type": "code",
   "execution_count": 69,
   "id": "5c21990d",
   "metadata": {},
   "outputs": [],
   "source": [
    "response = requests.get(\"https://www.microcenter.com/search/search_results.aspx?N=4294967292+4294807523&rd=1&vkw=Gaming+PCs\")"
   ]
  },
  {
   "cell_type": "code",
   "execution_count": 70,
   "id": "f331ca4a",
   "metadata": {},
   "outputs": [
    {
     "data": {
      "text/plain": [
       "403"
      ]
     },
     "execution_count": 70,
     "metadata": {},
     "output_type": "execute_result"
    }
   ],
   "source": [
    "response.status_code"
   ]
  },
  {
   "cell_type": "markdown",
   "id": "b608af44",
   "metadata": {},
   "source": [
    "### Lets try a different site, This is one about books and designed to be scraped for practice"
   ]
  },
  {
   "cell_type": "code",
   "execution_count": 71,
   "id": "a4648894",
   "metadata": {},
   "outputs": [],
   "source": [
    "response = requests.get(\"http://books.toscrape.com/catalogue/category/books/science-fiction_16/index.html\")"
   ]
  },
  {
   "cell_type": "code",
   "execution_count": 72,
   "id": "2d7355c0",
   "metadata": {},
   "outputs": [
    {
     "data": {
      "text/plain": [
       "200"
      ]
     },
     "execution_count": 72,
     "metadata": {},
     "output_type": "execute_result"
    }
   ],
   "source": [
    "response.status_code"
   ]
  },
  {
   "cell_type": "code",
   "execution_count": 73,
   "id": "5a5038b5",
   "metadata": {},
   "outputs": [],
   "source": [
    "soup = bsoup(response.text, \"lxml\")"
   ]
  },
  {
   "cell_type": "markdown",
   "id": "858a5a8a",
   "metadata": {},
   "source": [
    "#### Lets find the titles of the books on this page"
   ]
  },
  {
   "cell_type": "code",
   "execution_count": 74,
   "id": "beb6c827",
   "metadata": {},
   "outputs": [],
   "source": [
    "books_container = soup.find_all(\"li\",{\"class\":\"col-xs-6 col-sm-4 col-md-3 col-lg-3\"})"
   ]
  },
  {
   "cell_type": "code",
   "execution_count": 75,
   "id": "850d78fb",
   "metadata": {},
   "outputs": [
    {
     "data": {
      "text/plain": [
       "<h3><a href=\"../../../mesaerion-the-best-science-fiction-stories-1800-1849_983/index.html\" title=\"Mesaerion: The Best Science Fiction Stories 1800-1849\">Mesaerion: The Best Science ...</a></h3>"
      ]
     },
     "execution_count": 75,
     "metadata": {},
     "output_type": "execute_result"
    }
   ],
   "source": [
    "books_container[0].find('h3')"
   ]
  },
  {
   "cell_type": "code",
   "execution_count": 76,
   "id": "56b0178f",
   "metadata": {},
   "outputs": [
    {
     "name": "stdout",
     "output_type": "stream",
     "text": [
      "Mesaerion: The Best Science Fiction Stories 1800-1849\n"
     ]
    }
   ],
   "source": [
    "title_1 = books_container[0].find('h3').find(\"a\").get('title')\n",
    "print(title_1)"
   ]
  },
  {
   "cell_type": "code",
   "execution_count": 77,
   "id": "3330f03a",
   "metadata": {},
   "outputs": [
    {
     "name": "stdout",
     "output_type": "stream",
     "text": [
      "['Mesaerion: The Best Science Fiction Stories 1800-1849', 'Join', \"William Shakespeare's Star Wars: Verily, A New Hope (William Shakespeare's Star Wars #4)\", 'The Project', 'Soft Apocalypse', 'Sleeping Giants (Themis Files #1)', 'Arena', 'Foundation (Foundation (Publication Order) #1)', \"The Restaurant at the End of the Universe (Hitchhiker's Guide to the Galaxy #2)\", 'Ready Player One', \"Life, the Universe and Everything (Hitchhiker's Guide to the Galaxy #3)\", 'Dune (Dune #1)', 'Do Androids Dream of Electric Sheep? (Blade Runner #1)', 'Three Wishes (River of Time: California #1)', 'The Last Girl (The Dominion Trilogy #1)', \"Having the Barbarian's Baby (Ice Planet Barbarians #7.5)\"]\n"
     ]
    }
   ],
   "source": [
    "titles = []\n",
    "for book in books_container:\n",
    "    titles.append(book.find('h3').find(\"a\").get('title'))\n",
    "    \n",
    "print(titles)"
   ]
  },
  {
   "cell_type": "markdown",
   "id": "e38aae94",
   "metadata": {},
   "source": [
    "#### Lets get the prices too"
   ]
  },
  {
   "cell_type": "code",
   "execution_count": 90,
   "id": "dacb065c",
   "metadata": {},
   "outputs": [
    {
     "name": "stdout",
     "output_type": "stream",
     "text": [
      "Â£37.59\n",
      "37.59\n"
     ]
    }
   ],
   "source": [
    "temp_price = books_container[0].find('p',{\"class\":\"price_color\"}).text\n",
    "print(temp_price)\n",
    "price = re.sub(r'[^\\d.]+', '', temp_price)\n",
    "print(price)"
   ]
  },
  {
   "cell_type": "code",
   "execution_count": 92,
   "id": "39ce402e",
   "metadata": {},
   "outputs": [
    {
     "name": "stdout",
     "output_type": "stream",
     "text": [
      "['37.59', '35.67', '43.30', '10.65', '26.12', '48.74', '21.36', '32.42', '10.92', '19.07', '33.26', '54.86', '51.48', '44.18', '36.26', '34.96']\n"
     ]
    }
   ],
   "source": [
    "prices = []\n",
    "for book in books_container:\n",
    "    temp_price = book.find('p',{\"class\":\"price_color\"}).text\n",
    "    price = re.sub(r'[^\\d.]+', '', temp_price)\n",
    "    prices.append(price)\n",
    "print(prices)"
   ]
  }
 ],
 "metadata": {
  "kernelspec": {
   "display_name": "Python 3 (ipykernel)",
   "language": "python",
   "name": "python3"
  },
  "language_info": {
   "codemirror_mode": {
    "name": "ipython",
    "version": 3
   },
   "file_extension": ".py",
   "mimetype": "text/x-python",
   "name": "python",
   "nbconvert_exporter": "python",
   "pygments_lexer": "ipython3",
   "version": "3.10.0"
  }
 },
 "nbformat": 4,
 "nbformat_minor": 5
}
