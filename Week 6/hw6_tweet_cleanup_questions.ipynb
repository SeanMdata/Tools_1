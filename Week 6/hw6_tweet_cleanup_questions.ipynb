{
 "cells": [
  {
   "cell_type": "markdown",
   "metadata": {},
   "source": [
    "# Pandas DataFrame for storing tweet feed (total 12 points)\n",
    "\n",
    "Creating the following date frame for storing tweets:\n",
    "\n",
    "- **climate_feed_df** DataFrame for storing tweets\n",
    "- **retweeted_status_df** for storing original tweets"
   ]
  },
  {
   "cell_type": "code",
   "execution_count": 1,
   "metadata": {},
   "outputs": [],
   "source": [
    "import pandas as pd\n",
    "import numpy as np\n",
    "import nltk\n",
    "import re\n",
    "import requests\n",
    "from bs4 import BeautifulSoup as bsp\n",
    "import ast"
   ]
  },
  {
   "cell_type": "markdown",
   "metadata": {},
   "source": [
    "The pickle files retweeted_status_df.pkl and climate_feed.pkl should be in the same folder as this notebook.\n",
    "If needed, they can also be downloaded by uncommenting the commands below."
   ]
  },
  {
   "cell_type": "code",
   "execution_count": 2,
   "metadata": {},
   "outputs": [],
   "source": [
    "#!wget https://github.com/psnegi/data_science_tools1/raw/master/hws/retweeted_status_df.pkl"
   ]
  },
  {
   "cell_type": "code",
   "execution_count": 3,
   "metadata": {},
   "outputs": [],
   "source": [
    "#!wget https://github.com/psnegi/data_science_tools1/raw/master/hws/climate_feed.pkl"
   ]
  },
  {
   "cell_type": "markdown",
   "metadata": {},
   "source": [
    "<font color= \"red\">Click on these links if the above downloads fail. </font>\n",
    "\n",
    "\n",
    "https://github.com/psnegi/data_science_tools1/raw/master/hws/climate_feed.pkl\n",
    "\n",
    "https://github.com/psnegi/data_science_tools1/raw/master/hws/retweeted_status_df.pkl\n",
    "\n",
    "Keep these pickle files in the same directory as the notebook"
   ]
  },
  {
   "cell_type": "code",
   "execution_count": 4,
   "metadata": {},
   "outputs": [],
   "source": [
    "retweeted_status_df = pd.read_pickle(\"./retweeted_status_df.pkl\")"
   ]
  },
  {
   "cell_type": "code",
   "execution_count": 5,
   "metadata": {},
   "outputs": [
    {
     "data": {
      "text/html": [
       "<div>\n",
       "<style scoped>\n",
       "    .dataframe tbody tr th:only-of-type {\n",
       "        vertical-align: middle;\n",
       "    }\n",
       "\n",
       "    .dataframe tbody tr th {\n",
       "        vertical-align: top;\n",
       "    }\n",
       "\n",
       "    .dataframe thead th {\n",
       "        text-align: right;\n",
       "    }\n",
       "</style>\n",
       "<table border=\"1\" class=\"dataframe\">\n",
       "  <thead>\n",
       "    <tr style=\"text-align: right;\">\n",
       "      <th></th>\n",
       "      <th>contributors</th>\n",
       "      <th>coordinates</th>\n",
       "      <th>created_at</th>\n",
       "      <th>entities</th>\n",
       "      <th>extended_entities</th>\n",
       "      <th>favorite_count</th>\n",
       "      <th>favorited</th>\n",
       "      <th>geo</th>\n",
       "      <th>id</th>\n",
       "      <th>id_str</th>\n",
       "      <th>...</th>\n",
       "      <th>quoted_status</th>\n",
       "      <th>quoted_status_id</th>\n",
       "      <th>quoted_status_id_str</th>\n",
       "      <th>retweet_count</th>\n",
       "      <th>retweeted</th>\n",
       "      <th>scopes</th>\n",
       "      <th>source</th>\n",
       "      <th>text</th>\n",
       "      <th>truncated</th>\n",
       "      <th>user</th>\n",
       "    </tr>\n",
       "  </thead>\n",
       "  <tbody>\n",
       "    <tr>\n",
       "      <th>0</th>\n",
       "      <td>NaN</td>\n",
       "      <td>NaN</td>\n",
       "      <td>NaN</td>\n",
       "      <td>NaN</td>\n",
       "      <td>NaN</td>\n",
       "      <td>NaN</td>\n",
       "      <td>NaN</td>\n",
       "      <td>NaN</td>\n",
       "      <td>NaN</td>\n",
       "      <td>NaN</td>\n",
       "      <td>...</td>\n",
       "      <td>NaN</td>\n",
       "      <td>NaN</td>\n",
       "      <td>NaN</td>\n",
       "      <td>NaN</td>\n",
       "      <td>NaN</td>\n",
       "      <td>NaN</td>\n",
       "      <td>NaN</td>\n",
       "      <td>NaN</td>\n",
       "      <td>NaN</td>\n",
       "      <td>NaN</td>\n",
       "    </tr>\n",
       "    <tr>\n",
       "      <th>1</th>\n",
       "      <td>NaN</td>\n",
       "      <td>None</td>\n",
       "      <td>Sat Feb 09 20:27:45 +0000 2019</td>\n",
       "      <td>{'hashtags': [], 'user_mentions': [], 'urls': ...</td>\n",
       "      <td>NaN</td>\n",
       "      <td>99.0</td>\n",
       "      <td>False</td>\n",
       "      <td>None</td>\n",
       "      <td>1.094332e+18</td>\n",
       "      <td>1094332044052549633</td>\n",
       "      <td>...</td>\n",
       "      <td>NaN</td>\n",
       "      <td>NaN</td>\n",
       "      <td>NaN</td>\n",
       "      <td>81.0</td>\n",
       "      <td>False</td>\n",
       "      <td>NaN</td>\n",
       "      <td>&lt;a href=\"http://twitter.com\" rel=\"nofollow\"&gt;Tw...</td>\n",
       "      <td>The National Party declares war on the Glouces...</td>\n",
       "      <td>True</td>\n",
       "      <td>{'default_profile': False, 'protected': False,...</td>\n",
       "    </tr>\n",
       "    <tr>\n",
       "      <th>2</th>\n",
       "      <td>NaN</td>\n",
       "      <td>None</td>\n",
       "      <td>Sat Feb 09 23:56:18 +0000 2019</td>\n",
       "      <td>{'hashtags': [], 'user_mentions': [], 'urls': ...</td>\n",
       "      <td>NaN</td>\n",
       "      <td>6.0</td>\n",
       "      <td>False</td>\n",
       "      <td>None</td>\n",
       "      <td>1.094385e+18</td>\n",
       "      <td>1094384528267902977</td>\n",
       "      <td>...</td>\n",
       "      <td>{'favorited': False, 'favorite_count': 2642, '...</td>\n",
       "      <td>1.093999e+18</td>\n",
       "      <td>1093998640392220673</td>\n",
       "      <td>5.0</td>\n",
       "      <td>False</td>\n",
       "      <td>NaN</td>\n",
       "      <td>&lt;a href=\"http://twitter.com/download/android\" ...</td>\n",
       "      <td>This is the same idiot who thought\\nThe southe...</td>\n",
       "      <td>False</td>\n",
       "      <td>{'default_profile': False, 'protected': False,...</td>\n",
       "    </tr>\n",
       "  </tbody>\n",
       "</table>\n",
       "<p>3 rows × 30 columns</p>\n",
       "</div>"
      ],
      "text/plain": [
       "   contributors coordinates                      created_at  \\\n",
       "0           NaN         NaN                             NaN   \n",
       "1           NaN        None  Sat Feb 09 20:27:45 +0000 2019   \n",
       "2           NaN        None  Sat Feb 09 23:56:18 +0000 2019   \n",
       "\n",
       "                                            entities extended_entities  \\\n",
       "0                                                NaN               NaN   \n",
       "1  {'hashtags': [], 'user_mentions': [], 'urls': ...               NaN   \n",
       "2  {'hashtags': [], 'user_mentions': [], 'urls': ...               NaN   \n",
       "\n",
       "   favorite_count favorited   geo            id               id_str  ...  \\\n",
       "0             NaN       NaN   NaN           NaN                  NaN  ...   \n",
       "1            99.0     False  None  1.094332e+18  1094332044052549633  ...   \n",
       "2             6.0     False  None  1.094385e+18  1094384528267902977  ...   \n",
       "\n",
       "                                       quoted_status  quoted_status_id  \\\n",
       "0                                                NaN               NaN   \n",
       "1                                                NaN               NaN   \n",
       "2  {'favorited': False, 'favorite_count': 2642, '...      1.093999e+18   \n",
       "\n",
       "  quoted_status_id_str  retweet_count retweeted scopes  \\\n",
       "0                  NaN            NaN       NaN    NaN   \n",
       "1                  NaN           81.0     False    NaN   \n",
       "2  1093998640392220673            5.0     False    NaN   \n",
       "\n",
       "                                              source  \\\n",
       "0                                                NaN   \n",
       "1  <a href=\"http://twitter.com\" rel=\"nofollow\">Tw...   \n",
       "2  <a href=\"http://twitter.com/download/android\" ...   \n",
       "\n",
       "                                                text truncated  \\\n",
       "0                                                NaN       NaN   \n",
       "1  The National Party declares war on the Glouces...      True   \n",
       "2  This is the same idiot who thought\\nThe southe...     False   \n",
       "\n",
       "                                                user  \n",
       "0                                                NaN  \n",
       "1  {'default_profile': False, 'protected': False,...  \n",
       "2  {'default_profile': False, 'protected': False,...  \n",
       "\n",
       "[3 rows x 30 columns]"
      ]
     },
     "execution_count": 5,
     "metadata": {},
     "output_type": "execute_result"
    }
   ],
   "source": [
    "retweeted_status_df.head(3)"
   ]
  },
  {
   "cell_type": "code",
   "execution_count": 6,
   "metadata": {},
   "outputs": [
    {
     "data": {
      "text/html": [
       "<div>\n",
       "<style scoped>\n",
       "    .dataframe tbody tr th:only-of-type {\n",
       "        vertical-align: middle;\n",
       "    }\n",
       "\n",
       "    .dataframe tbody tr th {\n",
       "        vertical-align: top;\n",
       "    }\n",
       "\n",
       "    .dataframe thead th {\n",
       "        text-align: right;\n",
       "    }\n",
       "</style>\n",
       "<table border=\"1\" class=\"dataframe\">\n",
       "  <thead>\n",
       "    <tr style=\"text-align: right;\">\n",
       "      <th></th>\n",
       "      <th>contributors</th>\n",
       "      <th>coordinates</th>\n",
       "      <th>created_at</th>\n",
       "      <th>entities</th>\n",
       "      <th>extended_entities</th>\n",
       "      <th>favorite_count</th>\n",
       "      <th>favorited</th>\n",
       "      <th>geo</th>\n",
       "      <th>id</th>\n",
       "      <th>id_str</th>\n",
       "      <th>...</th>\n",
       "      <th>quoted_status</th>\n",
       "      <th>quoted_status_id</th>\n",
       "      <th>quoted_status_id_str</th>\n",
       "      <th>retweet_count</th>\n",
       "      <th>retweeted</th>\n",
       "      <th>retweeted_status</th>\n",
       "      <th>source</th>\n",
       "      <th>text</th>\n",
       "      <th>truncated</th>\n",
       "      <th>user_id</th>\n",
       "    </tr>\n",
       "  </thead>\n",
       "  <tbody>\n",
       "    <tr>\n",
       "      <th>0</th>\n",
       "      <td>None</td>\n",
       "      <td>None</td>\n",
       "      <td>Sun Feb 10 00:17:31 +0000 2019</td>\n",
       "      <td>{'hashtags': [], 'user_mentions': [{'id_str': ...</td>\n",
       "      <td>NaN</td>\n",
       "      <td>0</td>\n",
       "      <td>False</td>\n",
       "      <td>None</td>\n",
       "      <td>1094389867499405313</td>\n",
       "      <td>1094389867499405313</td>\n",
       "      <td>...</td>\n",
       "      <td>NaN</td>\n",
       "      <td>NaN</td>\n",
       "      <td>NaN</td>\n",
       "      <td>0</td>\n",
       "      <td>False</td>\n",
       "      <td>NaN</td>\n",
       "      <td>&lt;a href=\"http://twitter.com\" rel=\"nofollow\"&gt;Tw...</td>\n",
       "      <td>.@SteveKingIA says he's unsure about the scien...</td>\n",
       "      <td>True</td>\n",
       "      <td>31476142</td>\n",
       "    </tr>\n",
       "    <tr>\n",
       "      <th>1</th>\n",
       "      <td>None</td>\n",
       "      <td>None</td>\n",
       "      <td>Sun Feb 10 00:17:30 +0000 2019</td>\n",
       "      <td>{'hashtags': [], 'user_mentions': [{'id_str': ...</td>\n",
       "      <td>NaN</td>\n",
       "      <td>0</td>\n",
       "      <td>False</td>\n",
       "      <td>None</td>\n",
       "      <td>1094389862193455105</td>\n",
       "      <td>1094389862193455105</td>\n",
       "      <td>...</td>\n",
       "      <td>NaN</td>\n",
       "      <td>NaN</td>\n",
       "      <td>NaN</td>\n",
       "      <td>81</td>\n",
       "      <td>False</td>\n",
       "      <td>1.094332e+18</td>\n",
       "      <td>&lt;a href=\"http://tapbots.com/tweetbot\" rel=\"nof...</td>\n",
       "      <td>RT @RobOakeshott1: The National Party declares...</td>\n",
       "      <td>False</td>\n",
       "      <td>996782298</td>\n",
       "    </tr>\n",
       "  </tbody>\n",
       "</table>\n",
       "<p>2 rows × 30 columns</p>\n",
       "</div>"
      ],
      "text/plain": [
       "  contributors coordinates                      created_at  \\\n",
       "0         None        None  Sun Feb 10 00:17:31 +0000 2019   \n",
       "1         None        None  Sun Feb 10 00:17:30 +0000 2019   \n",
       "\n",
       "                                            entities extended_entities  \\\n",
       "0  {'hashtags': [], 'user_mentions': [{'id_str': ...               NaN   \n",
       "1  {'hashtags': [], 'user_mentions': [{'id_str': ...               NaN   \n",
       "\n",
       "  favorite_count favorited   geo                   id               id_str  \\\n",
       "0              0     False  None  1094389867499405313  1094389867499405313   \n",
       "1              0     False  None  1094389862193455105  1094389862193455105   \n",
       "\n",
       "   ... quoted_status quoted_status_id quoted_status_id_str retweet_count  \\\n",
       "0  ...           NaN              NaN                  NaN             0   \n",
       "1  ...           NaN              NaN                  NaN            81   \n",
       "\n",
       "  retweeted retweeted_status  \\\n",
       "0     False              NaN   \n",
       "1     False     1.094332e+18   \n",
       "\n",
       "                                              source  \\\n",
       "0  <a href=\"http://twitter.com\" rel=\"nofollow\">Tw...   \n",
       "1  <a href=\"http://tapbots.com/tweetbot\" rel=\"nof...   \n",
       "\n",
       "                                                text truncated    user_id  \n",
       "0  .@SteveKingIA says he's unsure about the scien...      True   31476142  \n",
       "1  RT @RobOakeshott1: The National Party declares...     False  996782298  \n",
       "\n",
       "[2 rows x 30 columns]"
      ]
     },
     "execution_count": 6,
     "metadata": {},
     "output_type": "execute_result"
    }
   ],
   "source": [
    "#climate_feed_df.to_pickle(\"./climate_feed.pkl\")\n",
    "climate_feed_df = pd.read_pickle(\"./climate_feed.pkl\")\n",
    "climate_feed_df.head(2)"
   ]
  },
  {
   "cell_type": "markdown",
   "metadata": {},
   "source": [
    "Here are dtypes for climate_feed_df. We'll work with only\n",
    "- entities to extract hashtags\n",
    "- retweeted_status in case we need to extract original full tweet\n",
    "- truncated\n",
    "- text: tweet text\n",
    "- created_at\n",
    "- user_id\n",
    "\n",
    "Some of them have wrong datatypes."
   ]
  },
  {
   "cell_type": "code",
   "execution_count": 7,
   "metadata": {},
   "outputs": [
    {
     "data": {
      "text/plain": [
       "contributors                  object\n",
       "coordinates                   object\n",
       "created_at                    object\n",
       "entities                      object\n",
       "extended_entities             object\n",
       "favorite_count                object\n",
       "favorited                     object\n",
       "geo                           object\n",
       "id                            object\n",
       "id_str                        object\n",
       "in_reply_to_screen_name       object\n",
       "in_reply_to_status_id         object\n",
       "in_reply_to_status_id_str     object\n",
       "in_reply_to_user_id           object\n",
       "in_reply_to_user_id_str       object\n",
       "is_quote_status               object\n",
       "lang                          object\n",
       "metadata                      object\n",
       "place                         object\n",
       "possibly_sensitive            object\n",
       "quoted_status                 object\n",
       "quoted_status_id              object\n",
       "quoted_status_id_str          object\n",
       "retweet_count                 object\n",
       "retweeted                     object\n",
       "retweeted_status             float64\n",
       "source                        object\n",
       "text                          object\n",
       "truncated                     object\n",
       "user_id                        int64\n",
       "dtype: object"
      ]
     },
     "execution_count": 7,
     "metadata": {},
     "output_type": "execute_result"
    }
   ],
   "source": [
    "climate_feed_df.dtypes"
   ]
  },
  {
   "cell_type": "markdown",
   "metadata": {},
   "source": [
    "# Q1 (points .5) Replace None with nan in climate_feed_df. Also display some random rows.\n"
   ]
  },
  {
   "cell_type": "code",
   "execution_count": 8,
   "metadata": {},
   "outputs": [
    {
     "data": {
      "text/html": [
       "<div>\n",
       "<style scoped>\n",
       "    .dataframe tbody tr th:only-of-type {\n",
       "        vertical-align: middle;\n",
       "    }\n",
       "\n",
       "    .dataframe tbody tr th {\n",
       "        vertical-align: top;\n",
       "    }\n",
       "\n",
       "    .dataframe thead th {\n",
       "        text-align: right;\n",
       "    }\n",
       "</style>\n",
       "<table border=\"1\" class=\"dataframe\">\n",
       "  <thead>\n",
       "    <tr style=\"text-align: right;\">\n",
       "      <th></th>\n",
       "      <th>contributors</th>\n",
       "      <th>coordinates</th>\n",
       "      <th>created_at</th>\n",
       "      <th>entities</th>\n",
       "      <th>extended_entities</th>\n",
       "      <th>favorite_count</th>\n",
       "      <th>favorited</th>\n",
       "      <th>geo</th>\n",
       "      <th>id</th>\n",
       "      <th>id_str</th>\n",
       "      <th>...</th>\n",
       "      <th>quoted_status</th>\n",
       "      <th>quoted_status_id</th>\n",
       "      <th>quoted_status_id_str</th>\n",
       "      <th>retweet_count</th>\n",
       "      <th>retweeted</th>\n",
       "      <th>retweeted_status</th>\n",
       "      <th>source</th>\n",
       "      <th>text</th>\n",
       "      <th>truncated</th>\n",
       "      <th>user_id</th>\n",
       "    </tr>\n",
       "  </thead>\n",
       "  <tbody>\n",
       "    <tr>\n",
       "      <th>5088</th>\n",
       "      <td>NaN</td>\n",
       "      <td>NaN</td>\n",
       "      <td>Sat Feb 09 22:34:10 +0000 2019</td>\n",
       "      <td>{'hashtags': [], 'user_mentions': [{'id_str': ...</td>\n",
       "      <td>NaN</td>\n",
       "      <td>0</td>\n",
       "      <td>False</td>\n",
       "      <td>NaN</td>\n",
       "      <td>1094363859123650562</td>\n",
       "      <td>1094363859123650562</td>\n",
       "      <td>...</td>\n",
       "      <td>NaN</td>\n",
       "      <td>NaN</td>\n",
       "      <td>NaN</td>\n",
       "      <td>350</td>\n",
       "      <td>False</td>\n",
       "      <td>1.094335e+18</td>\n",
       "      <td>&lt;a href=\"http://twitter.com/#!/download/ipad\" ...</td>\n",
       "      <td>RT @SiddonsDan: “Does God’s creation not inclu...</td>\n",
       "      <td>False</td>\n",
       "      <td>1014322812</td>\n",
       "    </tr>\n",
       "    <tr>\n",
       "      <th>6794</th>\n",
       "      <td>NaN</td>\n",
       "      <td>NaN</td>\n",
       "      <td>Sat Feb 09 22:00:21 +0000 2019</td>\n",
       "      <td>{'hashtags': [], 'user_mentions': [{'id_str': ...</td>\n",
       "      <td>NaN</td>\n",
       "      <td>0</td>\n",
       "      <td>False</td>\n",
       "      <td>NaN</td>\n",
       "      <td>1094355348222144512</td>\n",
       "      <td>1094355348222144512</td>\n",
       "      <td>...</td>\n",
       "      <td>NaN</td>\n",
       "      <td>NaN</td>\n",
       "      <td>NaN</td>\n",
       "      <td>2</td>\n",
       "      <td>False</td>\n",
       "      <td>1.093872e+18</td>\n",
       "      <td>&lt;a href=\"http://twitter.com\" rel=\"nofollow\"&gt;Tw...</td>\n",
       "      <td>RT @JuBeatz: I'd rather take my chances on the...</td>\n",
       "      <td>False</td>\n",
       "      <td>996583509295681537</td>\n",
       "    </tr>\n",
       "    <tr>\n",
       "      <th>7718</th>\n",
       "      <td>NaN</td>\n",
       "      <td>NaN</td>\n",
       "      <td>Sat Feb 09 21:42:24 +0000 2019</td>\n",
       "      <td>{'hashtags': [], 'user_mentions': [{'id_str': ...</td>\n",
       "      <td>NaN</td>\n",
       "      <td>0</td>\n",
       "      <td>False</td>\n",
       "      <td>NaN</td>\n",
       "      <td>1094350828419203072</td>\n",
       "      <td>1094350828419203072</td>\n",
       "      <td>...</td>\n",
       "      <td>NaN</td>\n",
       "      <td>NaN</td>\n",
       "      <td>NaN</td>\n",
       "      <td>1646</td>\n",
       "      <td>False</td>\n",
       "      <td>1.093564e+18</td>\n",
       "      <td>&lt;a href=\"https://mobile.twitter.com\" rel=\"nofo...</td>\n",
       "      <td>RT @SenKamalaHarris: We must urgently address ...</td>\n",
       "      <td>False</td>\n",
       "      <td>899068965569282050</td>\n",
       "    </tr>\n",
       "    <tr>\n",
       "      <th>3921</th>\n",
       "      <td>NaN</td>\n",
       "      <td>NaN</td>\n",
       "      <td>Sat Feb 09 23:00:44 +0000 2019</td>\n",
       "      <td>{'hashtags': [{'indices': [112, 126], 'text': ...</td>\n",
       "      <td>NaN</td>\n",
       "      <td>0</td>\n",
       "      <td>False</td>\n",
       "      <td>NaN</td>\n",
       "      <td>1094370541644009473</td>\n",
       "      <td>1094370541644009473</td>\n",
       "      <td>...</td>\n",
       "      <td>NaN</td>\n",
       "      <td>NaN</td>\n",
       "      <td>NaN</td>\n",
       "      <td>1</td>\n",
       "      <td>False</td>\n",
       "      <td>1.094333e+18</td>\n",
       "      <td>&lt;a href=\"http://twitter.com/download/iphone\" r...</td>\n",
       "      <td>RT @hobodiac: No more shinny? Thousands of lak...</td>\n",
       "      <td>False</td>\n",
       "      <td>343801640</td>\n",
       "    </tr>\n",
       "    <tr>\n",
       "      <th>5100</th>\n",
       "      <td>NaN</td>\n",
       "      <td>NaN</td>\n",
       "      <td>Sat Feb 09 22:34:00 +0000 2019</td>\n",
       "      <td>{'hashtags': [{'indices': [64, 77], 'text': 'G...</td>\n",
       "      <td>NaN</td>\n",
       "      <td>0</td>\n",
       "      <td>False</td>\n",
       "      <td>NaN</td>\n",
       "      <td>1094363815905513477</td>\n",
       "      <td>1094363815905513477</td>\n",
       "      <td>...</td>\n",
       "      <td>NaN</td>\n",
       "      <td>NaN</td>\n",
       "      <td>NaN</td>\n",
       "      <td>0</td>\n",
       "      <td>False</td>\n",
       "      <td>NaN</td>\n",
       "      <td>&lt;a href=\"http://twitter.com/download/iphone\" r...</td>\n",
       "      <td>@shaunking @AOC Nothing against @AOC but ppl s...</td>\n",
       "      <td>True</td>\n",
       "      <td>872237097926709248</td>\n",
       "    </tr>\n",
       "    <tr>\n",
       "      <th>9663</th>\n",
       "      <td>NaN</td>\n",
       "      <td>NaN</td>\n",
       "      <td>Sat Feb 09 21:04:07 +0000 2019</td>\n",
       "      <td>{'hashtags': [], 'user_mentions': [{'id_str': ...</td>\n",
       "      <td>{'media': [{'source_user_id_str': '17850785', ...</td>\n",
       "      <td>0</td>\n",
       "      <td>False</td>\n",
       "      <td>NaN</td>\n",
       "      <td>1094341196837720064</td>\n",
       "      <td>1094341196837720064</td>\n",
       "      <td>...</td>\n",
       "      <td>NaN</td>\n",
       "      <td>NaN</td>\n",
       "      <td>NaN</td>\n",
       "      <td>749</td>\n",
       "      <td>False</td>\n",
       "      <td>1.093876e+18</td>\n",
       "      <td>&lt;a href=\"http://twitter.com/download/android\" ...</td>\n",
       "      <td>RT @larrykim: 👏Elon Musk has released all of T...</td>\n",
       "      <td>False</td>\n",
       "      <td>979130517437153281</td>\n",
       "    </tr>\n",
       "    <tr>\n",
       "      <th>6220</th>\n",
       "      <td>NaN</td>\n",
       "      <td>NaN</td>\n",
       "      <td>Sat Feb 09 22:11:54 +0000 2019</td>\n",
       "      <td>{'hashtags': [], 'user_mentions': [{'id_str': ...</td>\n",
       "      <td>NaN</td>\n",
       "      <td>0</td>\n",
       "      <td>False</td>\n",
       "      <td>NaN</td>\n",
       "      <td>1094358253910310912</td>\n",
       "      <td>1094358253910310912</td>\n",
       "      <td>...</td>\n",
       "      <td>NaN</td>\n",
       "      <td>NaN</td>\n",
       "      <td>NaN</td>\n",
       "      <td>306</td>\n",
       "      <td>False</td>\n",
       "      <td>1.094062e+18</td>\n",
       "      <td>&lt;a href=\"http://twitter.com\" rel=\"nofollow\"&gt;Tw...</td>\n",
       "      <td>RT @ericswalwell: Climate change is real, and ...</td>\n",
       "      <td>False</td>\n",
       "      <td>1007726427465306112</td>\n",
       "    </tr>\n",
       "  </tbody>\n",
       "</table>\n",
       "<p>7 rows × 30 columns</p>\n",
       "</div>"
      ],
      "text/plain": [
       "      contributors coordinates                      created_at  \\\n",
       "5088           NaN         NaN  Sat Feb 09 22:34:10 +0000 2019   \n",
       "6794           NaN         NaN  Sat Feb 09 22:00:21 +0000 2019   \n",
       "7718           NaN         NaN  Sat Feb 09 21:42:24 +0000 2019   \n",
       "3921           NaN         NaN  Sat Feb 09 23:00:44 +0000 2019   \n",
       "5100           NaN         NaN  Sat Feb 09 22:34:00 +0000 2019   \n",
       "9663           NaN         NaN  Sat Feb 09 21:04:07 +0000 2019   \n",
       "6220           NaN         NaN  Sat Feb 09 22:11:54 +0000 2019   \n",
       "\n",
       "                                               entities  \\\n",
       "5088  {'hashtags': [], 'user_mentions': [{'id_str': ...   \n",
       "6794  {'hashtags': [], 'user_mentions': [{'id_str': ...   \n",
       "7718  {'hashtags': [], 'user_mentions': [{'id_str': ...   \n",
       "3921  {'hashtags': [{'indices': [112, 126], 'text': ...   \n",
       "5100  {'hashtags': [{'indices': [64, 77], 'text': 'G...   \n",
       "9663  {'hashtags': [], 'user_mentions': [{'id_str': ...   \n",
       "6220  {'hashtags': [], 'user_mentions': [{'id_str': ...   \n",
       "\n",
       "                                      extended_entities favorite_count  \\\n",
       "5088                                                NaN              0   \n",
       "6794                                                NaN              0   \n",
       "7718                                                NaN              0   \n",
       "3921                                                NaN              0   \n",
       "5100                                                NaN              0   \n",
       "9663  {'media': [{'source_user_id_str': '17850785', ...              0   \n",
       "6220                                                NaN              0   \n",
       "\n",
       "     favorited  geo                   id               id_str  ...  \\\n",
       "5088     False  NaN  1094363859123650562  1094363859123650562  ...   \n",
       "6794     False  NaN  1094355348222144512  1094355348222144512  ...   \n",
       "7718     False  NaN  1094350828419203072  1094350828419203072  ...   \n",
       "3921     False  NaN  1094370541644009473  1094370541644009473  ...   \n",
       "5100     False  NaN  1094363815905513477  1094363815905513477  ...   \n",
       "9663     False  NaN  1094341196837720064  1094341196837720064  ...   \n",
       "6220     False  NaN  1094358253910310912  1094358253910310912  ...   \n",
       "\n",
       "     quoted_status quoted_status_id quoted_status_id_str retweet_count  \\\n",
       "5088           NaN              NaN                  NaN           350   \n",
       "6794           NaN              NaN                  NaN             2   \n",
       "7718           NaN              NaN                  NaN          1646   \n",
       "3921           NaN              NaN                  NaN             1   \n",
       "5100           NaN              NaN                  NaN             0   \n",
       "9663           NaN              NaN                  NaN           749   \n",
       "6220           NaN              NaN                  NaN           306   \n",
       "\n",
       "     retweeted retweeted_status  \\\n",
       "5088     False     1.094335e+18   \n",
       "6794     False     1.093872e+18   \n",
       "7718     False     1.093564e+18   \n",
       "3921     False     1.094333e+18   \n",
       "5100     False              NaN   \n",
       "9663     False     1.093876e+18   \n",
       "6220     False     1.094062e+18   \n",
       "\n",
       "                                                 source  \\\n",
       "5088  <a href=\"http://twitter.com/#!/download/ipad\" ...   \n",
       "6794  <a href=\"http://twitter.com\" rel=\"nofollow\">Tw...   \n",
       "7718  <a href=\"https://mobile.twitter.com\" rel=\"nofo...   \n",
       "3921  <a href=\"http://twitter.com/download/iphone\" r...   \n",
       "5100  <a href=\"http://twitter.com/download/iphone\" r...   \n",
       "9663  <a href=\"http://twitter.com/download/android\" ...   \n",
       "6220  <a href=\"http://twitter.com\" rel=\"nofollow\">Tw...   \n",
       "\n",
       "                                                   text truncated  \\\n",
       "5088  RT @SiddonsDan: “Does God’s creation not inclu...     False   \n",
       "6794  RT @JuBeatz: I'd rather take my chances on the...     False   \n",
       "7718  RT @SenKamalaHarris: We must urgently address ...     False   \n",
       "3921  RT @hobodiac: No more shinny? Thousands of lak...     False   \n",
       "5100  @shaunking @AOC Nothing against @AOC but ppl s...      True   \n",
       "9663  RT @larrykim: 👏Elon Musk has released all of T...     False   \n",
       "6220  RT @ericswalwell: Climate change is real, and ...     False   \n",
       "\n",
       "                  user_id  \n",
       "5088           1014322812  \n",
       "6794   996583509295681537  \n",
       "7718   899068965569282050  \n",
       "3921            343801640  \n",
       "5100   872237097926709248  \n",
       "9663   979130517437153281  \n",
       "6220  1007726427465306112  \n",
       "\n",
       "[7 rows x 30 columns]"
      ]
     },
     "execution_count": 8,
     "metadata": {},
     "output_type": "execute_result"
    }
   ],
   "source": [
    "climate_feed_df.replace({'None' : np.nan}, inplace=True)\n",
    "climate_feed_df.sample(7)"
   ]
  },
  {
   "cell_type": "markdown",
   "metadata": {},
   "source": [
    " ### Given code: Working with only selected attributes."
   ]
  },
  {
   "cell_type": "code",
   "execution_count": 9,
   "metadata": {},
   "outputs": [],
   "source": [
    "climate_feed_df = climate_feed_df[['created_at', 'entities','retweeted_status', 'truncated', 'user_id', 'text' ]].copy()"
   ]
  },
  {
   "cell_type": "code",
   "execution_count": 10,
   "metadata": {},
   "outputs": [
    {
     "data": {
      "text/html": [
       "<div>\n",
       "<style scoped>\n",
       "    .dataframe tbody tr th:only-of-type {\n",
       "        vertical-align: middle;\n",
       "    }\n",
       "\n",
       "    .dataframe tbody tr th {\n",
       "        vertical-align: top;\n",
       "    }\n",
       "\n",
       "    .dataframe thead th {\n",
       "        text-align: right;\n",
       "    }\n",
       "</style>\n",
       "<table border=\"1\" class=\"dataframe\">\n",
       "  <thead>\n",
       "    <tr style=\"text-align: right;\">\n",
       "      <th></th>\n",
       "      <th>created_at</th>\n",
       "      <th>entities</th>\n",
       "      <th>retweeted_status</th>\n",
       "      <th>truncated</th>\n",
       "      <th>user_id</th>\n",
       "      <th>text</th>\n",
       "    </tr>\n",
       "  </thead>\n",
       "  <tbody>\n",
       "    <tr>\n",
       "      <th>4895</th>\n",
       "      <td>Sat Feb 09 22:38:48 +0000 2019</td>\n",
       "      <td>{'hashtags': [], 'user_mentions': [{'id_str': ...</td>\n",
       "      <td>1.094061e+18</td>\n",
       "      <td>False</td>\n",
       "      <td>3034805810</td>\n",
       "      <td>RT @ChristopherNFox: Kudos to the nearly 60 Me...</td>\n",
       "    </tr>\n",
       "    <tr>\n",
       "      <th>5281</th>\n",
       "      <td>Sat Feb 09 22:30:25 +0000 2019</td>\n",
       "      <td>{'hashtags': [], 'user_mentions': [{'id_str': ...</td>\n",
       "      <td>1.094354e+18</td>\n",
       "      <td>False</td>\n",
       "      <td>716749184821399553</td>\n",
       "      <td>RT @michaeldaleyMP: A government led by me wil...</td>\n",
       "    </tr>\n",
       "    <tr>\n",
       "      <th>735</th>\n",
       "      <td>Sun Feb 10 00:02:27 +0000 2019</td>\n",
       "      <td>{'hashtags': [], 'user_mentions': [{'id_str': ...</td>\n",
       "      <td>1.094356e+18</td>\n",
       "      <td>False</td>\n",
       "      <td>2426459444</td>\n",
       "      <td>RT @NPR: Whale poop is... bright orange? With ...</td>\n",
       "    </tr>\n",
       "  </tbody>\n",
       "</table>\n",
       "</div>"
      ],
      "text/plain": [
       "                          created_at  \\\n",
       "4895  Sat Feb 09 22:38:48 +0000 2019   \n",
       "5281  Sat Feb 09 22:30:25 +0000 2019   \n",
       "735   Sun Feb 10 00:02:27 +0000 2019   \n",
       "\n",
       "                                               entities  retweeted_status  \\\n",
       "4895  {'hashtags': [], 'user_mentions': [{'id_str': ...      1.094061e+18   \n",
       "5281  {'hashtags': [], 'user_mentions': [{'id_str': ...      1.094354e+18   \n",
       "735   {'hashtags': [], 'user_mentions': [{'id_str': ...      1.094356e+18   \n",
       "\n",
       "     truncated             user_id  \\\n",
       "4895     False          3034805810   \n",
       "5281     False  716749184821399553   \n",
       "735      False          2426459444   \n",
       "\n",
       "                                                   text  \n",
       "4895  RT @ChristopherNFox: Kudos to the nearly 60 Me...  \n",
       "5281  RT @michaeldaleyMP: A government led by me wil...  \n",
       "735   RT @NPR: Whale poop is... bright orange? With ...  "
      ]
     },
     "execution_count": 10,
     "metadata": {},
     "output_type": "execute_result"
    }
   ],
   "source": [
    "climate_feed_df.sample(3)"
   ]
  },
  {
   "cell_type": "markdown",
   "metadata": {},
   "source": [
    "# Q2 (points .5 =.25+.25) convert\n",
    "- created_at to date time type\n",
    "- truncated to bool type.\n"
   ]
  },
  {
   "cell_type": "code",
   "execution_count": 11,
   "metadata": {},
   "outputs": [
    {
     "data": {
      "text/html": [
       "<div>\n",
       "<style scoped>\n",
       "    .dataframe tbody tr th:only-of-type {\n",
       "        vertical-align: middle;\n",
       "    }\n",
       "\n",
       "    .dataframe tbody tr th {\n",
       "        vertical-align: top;\n",
       "    }\n",
       "\n",
       "    .dataframe thead th {\n",
       "        text-align: right;\n",
       "    }\n",
       "</style>\n",
       "<table border=\"1\" class=\"dataframe\">\n",
       "  <thead>\n",
       "    <tr style=\"text-align: right;\">\n",
       "      <th></th>\n",
       "      <th>created_at</th>\n",
       "      <th>entities</th>\n",
       "      <th>retweeted_status</th>\n",
       "      <th>truncated</th>\n",
       "      <th>user_id</th>\n",
       "      <th>text</th>\n",
       "    </tr>\n",
       "  </thead>\n",
       "  <tbody>\n",
       "    <tr>\n",
       "      <th>1253</th>\n",
       "      <td>2019-02-09 23:53:10+00:00</td>\n",
       "      <td>{'hashtags': [], 'user_mentions': [{'id_str': ...</td>\n",
       "      <td>1.094383e+18</td>\n",
       "      <td>True</td>\n",
       "      <td>830996244801613824</td>\n",
       "      <td>RT @FalwenJo: @littlelibtard @mitchellvii Exce...</td>\n",
       "    </tr>\n",
       "    <tr>\n",
       "      <th>4102</th>\n",
       "      <td>2019-02-09 22:57:42+00:00</td>\n",
       "      <td>{'hashtags': [], 'user_mentions': [{'id_str': ...</td>\n",
       "      <td>1.094242e+18</td>\n",
       "      <td>True</td>\n",
       "      <td>24961695</td>\n",
       "      <td>RT @molratty: \"Cows blur the line between trag...</td>\n",
       "    </tr>\n",
       "  </tbody>\n",
       "</table>\n",
       "</div>"
      ],
      "text/plain": [
       "                    created_at  \\\n",
       "1253 2019-02-09 23:53:10+00:00   \n",
       "4102 2019-02-09 22:57:42+00:00   \n",
       "\n",
       "                                               entities  retweeted_status  \\\n",
       "1253  {'hashtags': [], 'user_mentions': [{'id_str': ...      1.094383e+18   \n",
       "4102  {'hashtags': [], 'user_mentions': [{'id_str': ...      1.094242e+18   \n",
       "\n",
       "      truncated             user_id  \\\n",
       "1253       True  830996244801613824   \n",
       "4102       True            24961695   \n",
       "\n",
       "                                                   text  \n",
       "1253  RT @FalwenJo: @littlelibtard @mitchellvii Exce...  \n",
       "4102  RT @molratty: \"Cows blur the line between trag...  "
      ]
     },
     "execution_count": 11,
     "metadata": {},
     "output_type": "execute_result"
    }
   ],
   "source": [
    "# Date format prior: Sat Feb 09 23:02:41 +0000 2019, I had to look up the docs for the things below:\n",
    "# %a weekday abbreviation, %b month abbreviation, %d day of month as a 0-padded decimal, %z UTC offset\n",
    "\n",
    "climate_feed_df['created_at'] =pd.to_datetime(climate_feed_df['created_at'], format='%a %b %d %H:%M:%S %z %Y')\n",
    "climate_feed_df['truncated'] = climate_feed_df['truncated'].astype('bool')\n",
    "climate_feed_df.sample(2)"
   ]
  },
  {
   "cell_type": "markdown",
   "metadata": {},
   "source": [
    "Checking datatype again"
   ]
  },
  {
   "cell_type": "code",
   "execution_count": 12,
   "metadata": {},
   "outputs": [
    {
     "data": {
      "text/plain": [
       "created_at          datetime64[ns, UTC]\n",
       "entities                         object\n",
       "retweeted_status                float64\n",
       "truncated                          bool\n",
       "user_id                           int64\n",
       "text                             object\n",
       "dtype: object"
      ]
     },
     "execution_count": 12,
     "metadata": {},
     "output_type": "execute_result"
    }
   ],
   "source": [
    "climate_feed_df.dtypes"
   ]
  },
  {
   "cell_type": "markdown",
   "metadata": {},
   "source": [
    "# Q3(points .5) In climate_feed_df, calculate the number of NAN values in various columns"
   ]
  },
  {
   "cell_type": "code",
   "execution_count": 13,
   "metadata": {},
   "outputs": [
    {
     "data": {
      "text/plain": [
       "created_at             0\n",
       "entities               0\n",
       "retweeted_status    2690\n",
       "truncated              0\n",
       "user_id                0\n",
       "text                   0\n",
       "dtype: int64"
      ]
     },
     "execution_count": 13,
     "metadata": {},
     "output_type": "execute_result"
    }
   ],
   "source": [
    "climate_feed_df.isna().sum()\n"
   ]
  },
  {
   "cell_type": "markdown",
   "metadata": {},
   "source": [
    "We'll use **ast** module to parse string to python dictionary"
   ]
  },
  {
   "cell_type": "markdown",
   "metadata": {},
   "source": [
    "# Q4(points 1=.5+.5) Using *ast* module  convert entities to python dictionary. This dictionary should contain hashtags and user_mentions\n",
    " - Create a column named hashtags. Values in this columns should be comma separated values of **text** attribute in **hashtags**  value.\n",
    " - Create a column named user_mentions. Values in this columns should be comma separated values of **name** attribute in **user_mentions** values."
   ]
  },
  {
   "cell_type": "code",
   "execution_count": 14,
   "metadata": {},
   "outputs": [
    {
     "name": "stdout",
     "output_type": "stream",
     "text": [
      "{'hashtags': [], 'user_mentions': [{'id_str': '48117116', 'name': 'Steve King', 'screen_name': 'SteveKingIA', 'indices': [1, 13], 'id': 48117116}], 'urls': [{'indices': [117, 140], 'url': 'https://t.co/J1CcrQZkB2', 'display_url': 'twitter.com/i/web/status/1…', 'expanded_url': 'https://twitter.com/i/web/status/1094389867499405313'}], 'symbols': []}\n",
      "<class 'str'>\n"
     ]
    }
   ],
   "source": [
    "# This question is a bit vague and hard to see what he wants.\n",
    "# I believe hes asking us to parse whats in the entities column,\n",
    "# taking the value of hashtags and turning that into a new column\n",
    "\n",
    "#heres what the first entry looks like\n",
    "print(climate_feed_df['entities'][0])\n",
    "\n",
    "#its of type:\n",
    "print(type(climate_feed_df['entities'][0]))\n",
    "\n",
    "# testing the AST module on a single row\n",
    "climate_feed_df['entities'] = climate_feed_df['entities'].apply(lambda x:ast.literal_eval(x) if isinstance(x, str) else x)"
   ]
  },
  {
   "cell_type": "code",
   "execution_count": 15,
   "metadata": {},
   "outputs": [
    {
     "name": "stdout",
     "output_type": "stream",
     "text": [
      " [{'indices': [31, 36], 'text': 'SOTU'}]\n",
      "[{'id_str': '48117116', 'name': 'Steve King', 'screen_name': 'SteveKingIA', 'indices': [1, 13], 'id': 48117116}]\n"
     ]
    }
   ],
   "source": [
    "print(f\" {climate_feed_df['entities'][2519]['hashtags']}\")\n",
    "print(f\"{climate_feed_df['entities'][0]['user_mentions']}\")"
   ]
  },
  {
   "cell_type": "code",
   "execution_count": 16,
   "metadata": {},
   "outputs": [
    {
     "data": {
      "text/plain": [
       "'Amy Klobuchar'"
      ]
     },
     "execution_count": 16,
     "metadata": {},
     "output_type": "execute_result"
    }
   ],
   "source": [
    "climate_feed_df['entities'][2519]['hashtags'][0]['text']\n",
    "climate_feed_df['entities'][2519]['user_mentions'][0]['name']"
   ]
  },
  {
   "cell_type": "code",
   "execution_count": 17,
   "metadata": {},
   "outputs": [],
   "source": [
    "# Applying this to the entire dataframe\n",
    "temp_df = pd.DataFrame()\n",
    "temp_hash_list = []\n",
    "temp_name_list = []\n",
    "for i in climate_feed_df['entities']:\n",
    "    if i['hashtags'] != []:\n",
    "        temp_hash_list.append(i['hashtags'][0]['text'])\n",
    "    else:\n",
    "        temp_hash_list.append(np.nan)\n",
    "    if i['user_mentions'] != []:\n",
    "        temp_name_list.append(i['user_mentions'][0]['name'])\n",
    "    else:\n",
    "        temp_name_list.append(np.nan)\n",
    "temp_df['hashtags'] = temp_hash_list\n",
    "temp_df['user_mentions'] = temp_name_list"
   ]
  },
  {
   "cell_type": "code",
   "execution_count": 18,
   "metadata": {},
   "outputs": [],
   "source": [
    "# joining the two dataframes\n",
    "climate_feed_df = pd.concat([climate_feed_df, temp_df], axis=1)"
   ]
  },
  {
   "cell_type": "code",
   "execution_count": 19,
   "metadata": {},
   "outputs": [
    {
     "data": {
      "text/plain": [
       "created_at                                  2019-02-09 23:29:38+00:00\n",
       "entities            {'hashtags': [{'indices': [31, 36], 'text': 'S...\n",
       "retweeted_status                                1093539877470306304.0\n",
       "truncated                                                        True\n",
       "user_id                                                      21157573\n",
       "text                RT @amyklobuchar: Missing from #SOTU? Any ment...\n",
       "hashtags                                                         SOTU\n",
       "user_mentions                                           Amy Klobuchar\n",
       "Name: 2519, dtype: object"
      ]
     },
     "execution_count": 19,
     "metadata": {},
     "output_type": "execute_result"
    }
   ],
   "source": [
    "# checking an entry\n",
    "climate_feed_df.iloc[2519]"
   ]
  },
  {
   "cell_type": "code",
   "execution_count": 20,
   "metadata": {},
   "outputs": [
    {
     "data": {
      "text/html": [
       "<div>\n",
       "<style scoped>\n",
       "    .dataframe tbody tr th:only-of-type {\n",
       "        vertical-align: middle;\n",
       "    }\n",
       "\n",
       "    .dataframe tbody tr th {\n",
       "        vertical-align: top;\n",
       "    }\n",
       "\n",
       "    .dataframe thead th {\n",
       "        text-align: right;\n",
       "    }\n",
       "</style>\n",
       "<table border=\"1\" class=\"dataframe\">\n",
       "  <thead>\n",
       "    <tr style=\"text-align: right;\">\n",
       "      <th></th>\n",
       "      <th>created_at</th>\n",
       "      <th>entities</th>\n",
       "      <th>retweeted_status</th>\n",
       "      <th>truncated</th>\n",
       "      <th>user_id</th>\n",
       "      <th>text</th>\n",
       "      <th>hashtags</th>\n",
       "      <th>user_mentions</th>\n",
       "    </tr>\n",
       "  </thead>\n",
       "  <tbody>\n",
       "    <tr>\n",
       "      <th>5925</th>\n",
       "      <td>2019-02-09 22:18:04+00:00</td>\n",
       "      <td>{'hashtags': [], 'user_mentions': [], 'urls': ...</td>\n",
       "      <td>NaN</td>\n",
       "      <td>True</td>\n",
       "      <td>18700306</td>\n",
       "      <td>Sir, the only climate change going on is the c...</td>\n",
       "      <td>NaN</td>\n",
       "      <td>NaN</td>\n",
       "    </tr>\n",
       "    <tr>\n",
       "      <th>568</th>\n",
       "      <td>2019-02-10 00:05:48+00:00</td>\n",
       "      <td>{'hashtags': [], 'user_mentions': [], 'urls': ...</td>\n",
       "      <td>NaN</td>\n",
       "      <td>True</td>\n",
       "      <td>102545744</td>\n",
       "      <td>a strange thing about climate change is that i...</td>\n",
       "      <td>NaN</td>\n",
       "      <td>NaN</td>\n",
       "    </tr>\n",
       "    <tr>\n",
       "      <th>6551</th>\n",
       "      <td>2019-02-09 22:05:02+00:00</td>\n",
       "      <td>{'hashtags': [], 'user_mentions': [{'id_str': ...</td>\n",
       "      <td>NaN</td>\n",
       "      <td>True</td>\n",
       "      <td>249724722</td>\n",
       "      <td>A new study calls for \"universal auto access\" ...</td>\n",
       "      <td>NaN</td>\n",
       "      <td>CityLab</td>\n",
       "    </tr>\n",
       "    <tr>\n",
       "      <th>3558</th>\n",
       "      <td>2019-02-09 23:08:42+00:00</td>\n",
       "      <td>{'hashtags': [{'indices': [39, 54], 'text': 'P...</td>\n",
       "      <td>1.094102e+18</td>\n",
       "      <td>True</td>\n",
       "      <td>1611864877</td>\n",
       "      <td>RT @ImranKhanPTI: We are launching our #Plant4...</td>\n",
       "      <td>Plant4Pakistan</td>\n",
       "      <td>Imran Khan</td>\n",
       "    </tr>\n",
       "    <tr>\n",
       "      <th>2299</th>\n",
       "      <td>2019-02-09 23:34:00+00:00</td>\n",
       "      <td>{'hashtags': [{'indices': [28, 39], 'text': 'h...</td>\n",
       "      <td>1.094324e+18</td>\n",
       "      <td>True</td>\n",
       "      <td>924035400649363457</td>\n",
       "      <td>RT @WRIClimate: These days, #hurricanes in the...</td>\n",
       "      <td>hurricanes</td>\n",
       "      <td>WRI Climate</td>\n",
       "    </tr>\n",
       "  </tbody>\n",
       "</table>\n",
       "</div>"
      ],
      "text/plain": [
       "                    created_at  \\\n",
       "5925 2019-02-09 22:18:04+00:00   \n",
       "568  2019-02-10 00:05:48+00:00   \n",
       "6551 2019-02-09 22:05:02+00:00   \n",
       "3558 2019-02-09 23:08:42+00:00   \n",
       "2299 2019-02-09 23:34:00+00:00   \n",
       "\n",
       "                                               entities  retweeted_status  \\\n",
       "5925  {'hashtags': [], 'user_mentions': [], 'urls': ...               NaN   \n",
       "568   {'hashtags': [], 'user_mentions': [], 'urls': ...               NaN   \n",
       "6551  {'hashtags': [], 'user_mentions': [{'id_str': ...               NaN   \n",
       "3558  {'hashtags': [{'indices': [39, 54], 'text': 'P...      1.094102e+18   \n",
       "2299  {'hashtags': [{'indices': [28, 39], 'text': 'h...      1.094324e+18   \n",
       "\n",
       "      truncated             user_id  \\\n",
       "5925       True            18700306   \n",
       "568        True           102545744   \n",
       "6551       True           249724722   \n",
       "3558       True          1611864877   \n",
       "2299       True  924035400649363457   \n",
       "\n",
       "                                                   text        hashtags  \\\n",
       "5925  Sir, the only climate change going on is the c...             NaN   \n",
       "568   a strange thing about climate change is that i...             NaN   \n",
       "6551  A new study calls for \"universal auto access\" ...             NaN   \n",
       "3558  RT @ImranKhanPTI: We are launching our #Plant4...  Plant4Pakistan   \n",
       "2299  RT @WRIClimate: These days, #hurricanes in the...      hurricanes   \n",
       "\n",
       "     user_mentions  \n",
       "5925           NaN  \n",
       "568            NaN  \n",
       "6551       CityLab  \n",
       "3558    Imran Khan  \n",
       "2299   WRI Climate  "
      ]
     },
     "execution_count": 20,
     "metadata": {},
     "output_type": "execute_result"
    }
   ],
   "source": [
    "climate_feed_df.sample(5)"
   ]
  },
  {
   "cell_type": "markdown",
   "metadata": {},
   "source": [
    "# Cleaning tweets\n",
    "\n",
    "Let's see some random tweets"
   ]
  },
  {
   "cell_type": "code",
   "execution_count": 21,
   "metadata": {},
   "outputs": [
    {
     "data": {
      "text/plain": [
       "1759       RT @nytimes: Speedskating on natural ice is a beloved Dutch national pastime, and the Elfstedentocht race is the apex of that tradition. Bu…\n",
       "7613                                                           RT @jesstaras: Good morning to everyone except anti-vaxxers and climate change deniers 🌞\n",
       "9216    RT @Education4Libs: Nancy Pelosi excluded Alexandria Ocasio-Cortez from the new Climate Change Committee.\\n\\nLmao....\\n\\nThat moment you're so…\n",
       "3165       @saravindraj We have to because there is no other alternative. We are likely staring at an irreversible change in t… https://t.co/GQmJTeOAYH\n",
       "9343       RT @LauraLynnTT: Advocating for inclusivity while being the ones who  exclude those with differing beliefs is hypocritical. Banning me from…\n",
       "5916        You know with the new @MikeBloomberg bribery of cities for ‘climate change’ that city is to hire a city worker for… https://t.co/cBS2NydeF5\n",
       "8457       RT @FiveThirtyEight: In the spring of 2015, 63% of Americans said they believed climate change was happening and 52% said they were worried…\n",
       "Name: text, dtype: object"
      ]
     },
     "execution_count": 21,
     "metadata": {},
     "output_type": "execute_result"
    }
   ],
   "source": [
    "tweet_length= 280\n",
    "pd.set_option('max_colwidth', 2*tweet_length)\n",
    "climate_feed_df['text'].sample(7)"
   ]
  },
  {
   "cell_type": "markdown",
   "metadata": {},
   "source": [
    "**Example of tweet not truncated**"
   ]
  },
  {
   "cell_type": "code",
   "execution_count": 22,
   "metadata": {},
   "outputs": [
    {
     "data": {
      "text/plain": [
       "'Fighting climate change without nuclear is a fool’s errand. https://t.co/KPSCk6fjsa'"
      ]
     },
     "execution_count": 22,
     "metadata": {},
     "output_type": "execute_result"
    }
   ],
   "source": [
    "climate_feed_df['text'].loc[3929]"
   ]
  },
  {
   "cell_type": "markdown",
   "metadata": {},
   "source": [
    "**Exampe of tweet truncated**"
   ]
  },
  {
   "cell_type": "code",
   "execution_count": 23,
   "metadata": {},
   "outputs": [
    {
     "data": {
      "text/plain": [
       "'RT @_Oliver_Yates: If only Abbott could fight as hard for the safety of our country from the impacts of climate change, as he is fighting f…'"
      ]
     },
     "execution_count": 23,
     "metadata": {},
     "output_type": "execute_result"
    }
   ],
   "source": [
    "climate_feed_df['text'].loc[3928]"
   ]
  },
  {
   "cell_type": "markdown",
   "metadata": {},
   "source": [
    "Truncated tweet has three horizontal ellipses in it. One can check retweeted_status values and \n",
    "use it got the the original tweet text"
   ]
  },
  {
   "cell_type": "code",
   "execution_count": 24,
   "metadata": {},
   "outputs": [
    {
     "data": {
      "text/plain": [
       "1.0943594112863928e+18"
      ]
     },
     "execution_count": 24,
     "metadata": {},
     "output_type": "execute_result"
    }
   ],
   "source": [
    "climate_feed_df.retweeted_status.loc[3928]"
   ]
  },
  {
   "cell_type": "code",
   "execution_count": 25,
   "metadata": {},
   "outputs": [
    {
     "data": {
      "text/plain": [
       "'If only Abbott could fight as hard for the safety of our country from the impacts of climate change, as he is fight… https://t.co/OJlsDeFoNA'"
      ]
     },
     "execution_count": 25,
     "metadata": {},
     "output_type": "execute_result"
    }
   ],
   "source": [
    "retweeted_status_df[retweeted_status_df.id == climate_feed_df.retweeted_status.loc[3928]].text.iloc[0]"
   ]
  },
  {
   "cell_type": "markdown",
   "metadata": {},
   "source": [
    "There is url above tweet. We can use **requests** to get the complete text.\n",
    "\n"
   ]
  },
  {
   "cell_type": "markdown",
   "metadata": {},
   "source": [
    "# Q5(3.5 points, 1 for the use of requests and text extraction from right html element+.5+1+1 for the rest.) Perform following activities for creating a new original_tweet_text field in climate_feed_df. \n",
    "\n",
    "Option 1. This question frequently presents a challenge to students. If needed, please use the provided pickle file.\n",
    "Just uncomment the following cell to import the dataframe.\n",
    "\n",
    "Option 2. Use twitter API. For this you will need to look at hw 4 to set up the connection and use the \"2/tweets/{id}\" endpoint.\n",
    "\n",
    "Either option will work. You will still need to do the cleaning portion of the question for either option you choose.\n",
    "\n",
    "This is also the documentation link for the api call:\n",
    "https://developer.twitter.com/en/docs/twitter-api/tweets/lookup/api-reference/get-tweets-id\n",
    "\n",
    "- If  climate_feed_df has a valid retweeted_status(**it is an id of the record in retweeted_status_df** ), then use retweeted_status_df to get the original text(**retweeted_status_df.text**) otherwise use None(**Ignore the value of climate_feed_df.truncated field for this activity.**).\n",
    "    + If retweeted_status_df.text has a URL(like https://t.co/RKyppIS5c9 ), use it to get complete text from right html element. \n",
    "    \n",
    "    *If you have a way to figure out that one is not supposed to web scrap this URL don't scrap it.*\n",
    "    \n",
    "- Create a new field named **original_tweet_text** in climate_feed_df to store the text extracted from URL(use None if requests to URL fails or any other issues.). Use retweeted_status_df.text if there was no \n",
    " URL.\n",
    "- From  newly original_tweet_text field remove\n",
    "    - one or more \\n with .(dot)\n",
    "    - any url(http, https)\n",
    "    - @user, @user:\n",
    "\n",
    "*Note that as you will be making a lot of requests call(I/O bound calls), this portion of code can be slow. you may want to test your code on a small number of records first.*"
   ]
  },
  {
   "cell_type": "code",
   "execution_count": 26,
   "metadata": {},
   "outputs": [
    {
     "name": "stdout",
     "output_type": "stream",
     "text": [
      "9999\n",
      "9999\n"
     ]
    }
   ],
   "source": [
    "climate_feed_df[\"retweeted_status\"].notna().sum()\n",
    "print(len(climate_feed_df))\n",
    "print(len(retweeted_status_df))"
   ]
  },
  {
   "cell_type": "code",
   "execution_count": 28,
   "metadata": {},
   "outputs": [],
   "source": [
    "# Just testing some things here\n",
    "test_resp = requests.get('https://twitter.com/i/web/status/1094332044052549633')\n",
    "soup = bsp(test_resp.text, 'html.parser')\n",
    "# print(soup.prettify)\n",
    "# retweeted_status_df['text'].head(2)\n",
    "# climate_feed_df['text'].head(2)"
   ]
  },
  {
   "cell_type": "code",
   "execution_count": 29,
   "metadata": {},
   "outputs": [
    {
     "name": "stdout",
     "output_type": "stream",
     "text": [
      "[<span class=\"css-901oao css-16my406 r-poiln3 r-bcqeeo r-qvutc0\">Something went wrong, but don’t fret — let’s give it another shot.</span>, <span class=\"css-901oao css-16my406 css-1hf3ou5 r-poiln3 r-a023e6 r-rjixqe r-bcqeeo r-qvutc0\"><span class=\"css-901oao css-16my406 r-poiln3 r-bcqeeo r-qvutc0\">Try again</span></span>, <span class=\"css-901oao css-16my406 r-poiln3 r-bcqeeo r-qvutc0\">Try again</span>]\n",
      "\n",
      "Twitter doesn't seem to let you scrape the text from the html, So I will have to use the truncated text\n"
     ]
    }
   ],
   "source": [
    "#if climate_feed_df has a valid retweeted_status get the text otherwise use None.\n",
    "for i in range(2):\n",
    "    # first lets get the url\n",
    "    reg_pat = r'https?://\\S+'\n",
    "    try:\n",
    "        url = re.findall(reg_pat,retweeted_status_df[retweeted_status_df.id == climate_feed_df.retweeted_status.loc[i]].text.iloc[0])\n",
    "        if url != []:\n",
    "            # print(url[0])\n",
    "            response = requests.get(url[0])\n",
    "            # print(response.status_code)\n",
    "            if response.status_code == 200:\n",
    "                soup = bsp(response.text, 'html.parser')\n",
    "                # Something interesting is going on when trying to scrape here,\n",
    "                # If we look at the soup all the text becomes \"something went wrong\"\n",
    "                print(soup.find_all('span', {'class': re.compile(\"css-901oao*\")}))     \n",
    "            else:\n",
    "                text = np.nan\n",
    "        else:\n",
    "            text = np.nan\n",
    "    except Exception as ex:\n",
    "        pass\n",
    "        #print(ex)\n",
    "        \n",
    "print(\"\\nTwitter doesn't seem to let you scrape the text from the html, So I will have to use the truncated text\")"
   ]
  },
  {
   "cell_type": "markdown",
   "metadata": {},
   "source": [
    "# Q 6(point 1= .5+.5) Remove all the references  of RT and  @user: or @user, and url in climate_feed_df text attribute."
   ]
  },
  {
   "cell_type": "code",
   "execution_count": 30,
   "metadata": {},
   "outputs": [
    {
     "name": "stdout",
     "output_type": "stream",
     "text": [
      "original\n",
      ".@SteveKingIA says he's unsure about the science of climate change. But you don’t need to be a scientist to take ac… https://t.co/J1CcrQZkB2\n",
      "\n",
      "After removing @ \n",
      ". says he's unsure about the science of climate change. But you don’t need to be a scientist to take ac… https://t.co/J1CcrQZkB2\n",
      "\n",
      "After removing url:\n",
      " . says he's unsure about the science of climate change. But you don’t need to be a scientist to take ac… \n"
     ]
    }
   ],
   "source": [
    "# Lets walk through just one row\n",
    "text = climate_feed_df['text'][0]\n",
    "type(text)\n",
    "print(f'original\\n{text}\\n')\n",
    "text = re.sub(r\"@\\w+\",\"\", text)\n",
    "print(f\"After removing @ \\n{text}\\n\")\n",
    "text = re.sub(r'http\\S+',\"\", text)\n",
    "print(f\"After removing url:\\n {text}\")"
   ]
  },
  {
   "cell_type": "code",
   "execution_count": 31,
   "metadata": {},
   "outputs": [
    {
     "data": {
      "text/plain": [
       "'. says he s unsure about the science of climate change. But you don t need to be a scientist to take ac'"
      ]
     },
     "execution_count": 31,
     "metadata": {},
     "output_type": "execute_result"
    }
   ],
   "source": [
    "# lets make a function to do this\n",
    "def remove_things(tweet):\n",
    "    tweet = re.sub(r\"@\\w+\",\"\", tweet)\n",
    "    tweet = re.sub(r'http\\S+',\"\", tweet)\n",
    "    tweet = tweet.replace(\"RT\", '')\n",
    "    tweet = re.sub(r'[^A-Za-z.]+', ' ', tweet)\n",
    "    tweet = tweet.strip()\n",
    "    return tweet\n",
    "\n",
    "#test on the row\n",
    "remove_things(climate_feed_df['text'][0])"
   ]
  },
  {
   "cell_type": "code",
   "execution_count": 32,
   "metadata": {},
   "outputs": [
    {
     "data": {
      "text/html": [
       "<div>\n",
       "<style scoped>\n",
       "    .dataframe tbody tr th:only-of-type {\n",
       "        vertical-align: middle;\n",
       "    }\n",
       "\n",
       "    .dataframe tbody tr th {\n",
       "        vertical-align: top;\n",
       "    }\n",
       "\n",
       "    .dataframe thead th {\n",
       "        text-align: right;\n",
       "    }\n",
       "</style>\n",
       "<table border=\"1\" class=\"dataframe\">\n",
       "  <thead>\n",
       "    <tr style=\"text-align: right;\">\n",
       "      <th></th>\n",
       "      <th>created_at</th>\n",
       "      <th>entities</th>\n",
       "      <th>retweeted_status</th>\n",
       "      <th>truncated</th>\n",
       "      <th>user_id</th>\n",
       "      <th>text</th>\n",
       "      <th>hashtags</th>\n",
       "      <th>user_mentions</th>\n",
       "    </tr>\n",
       "  </thead>\n",
       "  <tbody>\n",
       "    <tr>\n",
       "      <th>0</th>\n",
       "      <td>2019-02-10 00:17:31+00:00</td>\n",
       "      <td>{'hashtags': [], 'user_mentions': [{'id_str': '48117116', 'name': 'Steve King', 'screen_name': 'SteveKingIA', 'indices': [1, 13], 'id': 48117116}], 'urls': [{'indices': [117, 140], 'url': 'https://t.co/J1CcrQZkB2', 'display_url': 'twitter.com/i/web/status/1…', 'expanded_url': 'https://twitter.com/i/web/status/1094389867499405313'}], 'symbols': []}</td>\n",
       "      <td>NaN</td>\n",
       "      <td>True</td>\n",
       "      <td>31476142</td>\n",
       "      <td>. says he s unsure about the science of climate change. But you don t need to be a scientist to take ac</td>\n",
       "      <td>NaN</td>\n",
       "      <td>Steve King</td>\n",
       "    </tr>\n",
       "    <tr>\n",
       "      <th>1</th>\n",
       "      <td>2019-02-10 00:17:30+00:00</td>\n",
       "      <td>{'hashtags': [], 'user_mentions': [{'id_str': '16777464', 'name': 'Rob Oakeshott', 'screen_name': 'RobOakeshott1', 'indices': [3, 17], 'id': 16777464}], 'urls': [], 'symbols': []}</td>\n",
       "      <td>1.094332e+18</td>\n",
       "      <td>True</td>\n",
       "      <td>996782298</td>\n",
       "      <td>The National Party declares war on the Gloucester community because they stood up for themselves and won. Remember the</td>\n",
       "      <td>NaN</td>\n",
       "      <td>Rob Oakeshott</td>\n",
       "    </tr>\n",
       "  </tbody>\n",
       "</table>\n",
       "</div>"
      ],
      "text/plain": [
       "                 created_at  \\\n",
       "0 2019-02-10 00:17:31+00:00   \n",
       "1 2019-02-10 00:17:30+00:00   \n",
       "\n",
       "                                                                                                                                                                                                                                                                                                                                                        entities  \\\n",
       "0  {'hashtags': [], 'user_mentions': [{'id_str': '48117116', 'name': 'Steve King', 'screen_name': 'SteveKingIA', 'indices': [1, 13], 'id': 48117116}], 'urls': [{'indices': [117, 140], 'url': 'https://t.co/J1CcrQZkB2', 'display_url': 'twitter.com/i/web/status/1…', 'expanded_url': 'https://twitter.com/i/web/status/1094389867499405313'}], 'symbols': []}   \n",
       "1                                                                                                                                                                            {'hashtags': [], 'user_mentions': [{'id_str': '16777464', 'name': 'Rob Oakeshott', 'screen_name': 'RobOakeshott1', 'indices': [3, 17], 'id': 16777464}], 'urls': [], 'symbols': []}   \n",
       "\n",
       "   retweeted_status  truncated    user_id  \\\n",
       "0               NaN       True   31476142   \n",
       "1      1.094332e+18       True  996782298   \n",
       "\n",
       "                                                                                                                     text  \\\n",
       "0                 . says he s unsure about the science of climate change. But you don t need to be a scientist to take ac   \n",
       "1  The National Party declares war on the Gloucester community because they stood up for themselves and won. Remember the   \n",
       "\n",
       "  hashtags  user_mentions  \n",
       "0      NaN     Steve King  \n",
       "1      NaN  Rob Oakeshott  "
      ]
     },
     "execution_count": 32,
     "metadata": {},
     "output_type": "execute_result"
    }
   ],
   "source": [
    "# Apply ^ to entire column in the df\n",
    "climate_feed_df['text']= climate_feed_df['text'].apply(remove_things)\n",
    "climate_feed_df.head(2)"
   ]
  },
  {
   "cell_type": "markdown",
   "metadata": {},
   "source": [
    "# Q 7 (2 point) Create a new attribute in climate_feed_df named *final_tweet_text*. If *original_tweet_text* is None  then use climate_feed_df.text otherwise use *original_text_tweet* if initial words matched with *climate_feed_df.text* words. If words don't match use climate_feed_df.text\n",
    "\n",
    "Note that some time after fetching text from a url based on retweeted_status_df.text, we may get different text. We can fix it but for this homework we are ignoring it."
   ]
  },
  {
   "cell_type": "code",
   "execution_count": 33,
   "metadata": {},
   "outputs": [],
   "source": [
    "climate_feed_df['final_tweet_text'] = climate_feed_df['text']"
   ]
  },
  {
   "cell_type": "markdown",
   "metadata": {},
   "source": [
    "# Emoji detection\n",
    "\n",
    "See this example of emoji as unicode characters"
   ]
  },
  {
   "cell_type": "code",
   "execution_count": 34,
   "metadata": {},
   "outputs": [
    {
     "data": {
      "text/plain": [
       "'Oh my god CARBON....... Cue the outrage machine against smartphone. These things are adding to climate change.'"
      ]
     },
     "execution_count": 34,
     "metadata": {},
     "output_type": "execute_result"
    }
   ],
   "source": [
    "climate_feed_df['final_tweet_text'].loc[3931]"
   ]
  },
  {
   "cell_type": "markdown",
   "metadata": {},
   "source": [
    "We can use use regex to capture this emoji\n",
    "https://apps.timwhitlock.info/emoji/tables/unicode"
   ]
  },
  {
   "cell_type": "code",
   "execution_count": 35,
   "metadata": {},
   "outputs": [],
   "source": [
    "emoji_regex = re.compile(r\"\\U0001F631\", re.UNICODE)"
   ]
  },
  {
   "cell_type": "code",
   "execution_count": 36,
   "metadata": {},
   "outputs": [
    {
     "data": {
      "text/plain": [
       "[]"
      ]
     },
     "execution_count": 36,
     "metadata": {},
     "output_type": "execute_result"
    }
   ],
   "source": [
    "emoji_regex.findall(climate_feed_df['final_tweet_text'].loc[3931])"
   ]
  },
  {
   "cell_type": "markdown",
   "metadata": {},
   "source": [
    "## I dont see an emoji, likely because I wasnt able to scrape the full text"
   ]
  },
  {
   "cell_type": "code",
   "execution_count": 64,
   "metadata": {},
   "outputs": [
    {
     "name": "stderr",
     "output_type": "stream",
     "text": [
      "/var/folders/q0/rm2w_k594fx0w2480vcbn59w0000gn/T/ipykernel_78125/669164287.py:2: SettingWithCopyWarning: \n",
      "A value is trying to be set on a copy of a slice from a DataFrame\n",
      "\n",
      "See the caveats in the documentation: https://pandas.pydata.org/pandas-docs/stable/user_guide/indexing.html#returning-a-view-versus-a-copy\n",
      "  climate_feed_df['final_tweet_text'][3931] = \"Oh my god CARBON \\U0001f600\"\n"
     ]
    },
    {
     "data": {
      "text/plain": [
       "'Oh my god CARBON 😀'"
      ]
     },
     "execution_count": 64,
     "metadata": {},
     "output_type": "execute_result"
    }
   ],
   "source": [
    "# im gonna insert one to test my function:\n",
    "climate_feed_df['final_tweet_text'][3931] = \"Oh my god CARBON \\U0001f600\"\n",
    "climate_feed_df['final_tweet_text'][3931]"
   ]
  },
  {
   "cell_type": "markdown",
   "metadata": {},
   "source": [
    "We'll use emoji library to make this task easier.\n",
    "\n",
    "Here is some documentation about unicode support in python\n",
    "\n",
    "https://docs.python.org/3/howto/unicode.html"
   ]
  },
  {
   "cell_type": "code",
   "execution_count": null,
   "metadata": {},
   "outputs": [],
   "source": [
    "# ! pip install emoji"
   ]
  },
  {
   "cell_type": "code",
   "execution_count": 37,
   "metadata": {},
   "outputs": [],
   "source": [
    "import emoji"
   ]
  },
  {
   "cell_type": "code",
   "execution_count": 67,
   "metadata": {},
   "outputs": [],
   "source": [
    "# UNICODE_EMOJI was removed in version 2.0.0\n",
    "# after reading the docs EMOJI_DATA will get me what I need"
   ]
  },
  {
   "cell_type": "markdown",
   "metadata": {},
   "source": [
    "# Q 8(1 point) Create a column  called *emoji*.  This column should contain a list of tuples for emoji detected in *final_tweet_text*. The first element of the tuple is the emoji detected and second is the text describing the emoji."
   ]
  },
  {
   "cell_type": "code",
   "execution_count": 65,
   "metadata": {},
   "outputs": [
    {
     "data": {
      "text/plain": [
       "['😀']"
      ]
     },
     "execution_count": 65,
     "metadata": {},
     "output_type": "execute_result"
    }
   ],
   "source": [
    "# Lets make a func to detect emoji's\n",
    "def detect_emoji(tweet):\n",
    "    try:\n",
    "        return [x for x in tweet if x in emoji.EMOJI_DATA]\n",
    "    except Exception as ex:\n",
    "        return ex\n",
    "climate_feed_df['emoji'] = climate_feed_df['final_tweet_text'].apply(detect_emoji)\n",
    "climate_feed_df['emoji'][3931]"
   ]
  },
  {
   "cell_type": "markdown",
   "metadata": {},
   "source": [
    "# We will use wordcloud  to do elemetary exploratory data analysis (EDA). We will do some cleanup before using wordcloud.\n",
    "\n",
    "https://github.com/amueller/word_cloud"
   ]
  },
  {
   "cell_type": "code",
   "execution_count": null,
   "metadata": {},
   "outputs": [],
   "source": [
    "#!pip install wordcloud"
   ]
  },
  {
   "cell_type": "code",
   "execution_count": 68,
   "metadata": {},
   "outputs": [],
   "source": [
    "from wordcloud import WordCloud\n",
    "import matplotlib.pyplot as plt"
   ]
  },
  {
   "cell_type": "code",
   "execution_count": 69,
   "metadata": {},
   "outputs": [],
   "source": [
    "%matplotlib inline"
   ]
  },
  {
   "cell_type": "code",
   "execution_count": 70,
   "metadata": {},
   "outputs": [
    {
     "data": {
      "image/png": "[encoded data removed]",
      "text/plain": [
       "<Figure size 640x480 with 1 Axes>"
      ]
     },
     "metadata": {},
     "output_type": "display_data"
    }
   ],
   "source": [
    "# here is a sample\n",
    "text = \"climate change. Climate is always changing. Human activity also affects climate through changes in the number and physical properties of tiny solid particles and liquid droplets in the atmosphere, known collectively as atmospheric aerosols\"\n",
    "wordcloud = WordCloud().generate(text)\n",
    "\n",
    "# Display the generated image:\n",
    "# the matplotlib way:\n",
    "import matplotlib.pyplot as plt\n",
    "plt.imshow(wordcloud, interpolation='bilinear')\n",
    "plt.axis(\"off\")\n",
    "\n",
    "\n",
    "plt.show()"
   ]
  },
  {
   "cell_type": "markdown",
   "metadata": {},
   "source": [
    "As you can see word size is proportional to frequency of a word and highlight the main keywords in a text.\n",
    "This gives an idea about the content of the  text."
   ]
  },
  {
   "cell_type": "markdown",
   "metadata": {},
   "source": [
    "We can do all the text pre processing or wrangling\n",
    " like \n",
    "\n",
    "- More Cleaning\n",
    "- Case conversion\n",
    "- Spell correction\n",
    "- Expanding contractions\n",
    "- Removing stop words\n",
    "- Morphological normalization\n",
    "    - Stemming\n",
    "    - Lemmatization\n",
    "\n",
    "\n",
    "But for this homework we'll only **do expanding contractions,  stop words removal,  and lemmatization**"
   ]
  },
  {
   "cell_type": "markdown",
   "metadata": {},
   "source": [
    "# Q 9 (2 = .5+.5+.5+.5 points) Do\n",
    "- expanding contractions\n",
    "- stop words removal\n",
    "- lemmatization\n",
    "- Use wordcloud to visualize keywords"
   ]
  },
  {
   "cell_type": "code",
   "execution_count": 84,
   "metadata": {
    "scrolled": true
   },
   "outputs": [
    {
     "data": {
      "image/png": "[encoded data removed]",
      "text/plain": [
       "<Figure size 640x480 with 1 Axes>"
      ]
     },
     "metadata": {},
     "output_type": "display_data"
    }
   ],
   "source": [
    "# What text am I even supposed to use? I guess I get to pick?\n",
    "# Here's a quote from a book I recently finished Oathbringer by brandon sanderson\n",
    "text = \"The most important step a man can take? It’s not the first one, is it? It’s the next one. Always the next step, Dalinar.\"\n",
    "wordcloud = WordCloud().generate(text)\n",
    "\n",
    "# Display the generated image:\n",
    "# the matplotlib way:\n",
    "import matplotlib.pyplot as plt\n",
    "plt.imshow(wordcloud, interpolation='bilinear')\n",
    "plt.axis(\"off\")\n",
    "plt.show()"
   ]
  },
  {
   "cell_type": "markdown",
   "metadata": {},
   "source": [
    "# Homework ends\n",
    "# Final thoughts\n",
    "We did not do all of the cleanup or used all attributes for EDA. Let us highlight one more cleanup activity related to language."
   ]
  },
  {
   "cell_type": "code",
   "execution_count": 73,
   "metadata": {},
   "outputs": [],
   "source": [
    "#! pip install enchant\n",
    "import enchant"
   ]
  },
  {
   "cell_type": "code",
   "execution_count": 77,
   "metadata": {},
   "outputs": [],
   "source": [
    "# dictionary = enchant.Dict('en')"
   ]
  },
  {
   "cell_type": "code",
   "execution_count": 79,
   "metadata": {},
   "outputs": [],
   "source": [
    "# climate_feed_df['text'].loc[5217]"
   ]
  },
  {
   "cell_type": "code",
   "execution_count": 78,
   "metadata": {},
   "outputs": [],
   "source": [
    "# [dictionary.check(w) for w in  nltk.word_tokenize(climate_feed_df['text'].loc[5217])]"
   ]
  }
 ],
 "metadata": {
  "kernelspec": {
   "display_name": "Python 3 (ipykernel)",
   "language": "python",
   "name": "python3"
  },
  "language_info": {
   "codemirror_mode": {
    "name": "ipython",
    "version": 3
   },
   "file_extension": ".py",
   "mimetype": "text/x-python",
   "name": "python",
   "nbconvert_exporter": "python",
   "pygments_lexer": "ipython3",
   "version": "3.10.0"
  },
  "toc": {
   "base_numbering": 1,
   "nav_menu": {},
   "number_sections": false,
   "sideBar": true,
   "skip_h1_title": false,
   "title_cell": "Table of Contents",
   "title_sidebar": "Contents",
   "toc_cell": false,
   "toc_position": {},
   "toc_section_display": true,
   "toc_window_display": false
  },
  "varInspector": {
   "cols": {
    "lenName": 16,
    "lenType": 16,
    "lenVar": 40
   },
   "kernels_config": {
    "python": {
     "delete_cmd_postfix": "",
     "delete_cmd_prefix": "del ",
     "library": "var_list.py",
     "varRefreshCmd": "print(var_dic_list())"
    },
    "r": {
     "delete_cmd_postfix": ") ",
     "delete_cmd_prefix": "rm(",
     "library": "var_list.r",
     "varRefreshCmd": "cat(var_dic_list()) "
    }
   },
   "types_to_exclude": [
    "module",
    "function",
    "builtin_function_or_method",
    "instance",
    "_Feature"
   ],
   "window_display": false
  }
 },
 "nbformat": 4,
 "nbformat_minor": 2
}
